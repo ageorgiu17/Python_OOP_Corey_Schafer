{
 "cells": [
  {
   "cell_type": "code",
   "execution_count": 3,
   "id": "f5c1bb2c",
   "metadata": {},
   "outputs": [],
   "source": [
    "class Employee():\n",
    "    \n",
    "    def __init__(self, first_name, last_name, pay):\n",
    "        self.first_name = first_name\n",
    "        self.last_name = last_name\n",
    "        self.pay = pay\n",
    "        self.email = f'{first_name}.{last_name}@company.com'\n",
    "        \n",
    "    def fullname(self):\n",
    "        return f'{self.first_name} {self.last_name}'\n",
    "    "
   ]
  },
  {
   "cell_type": "markdown",
   "id": "fb0a31b9",
   "metadata": {},
   "source": [
    "De data acesta o sa invatam cu sa utilizam decoratorul property. Acesta ne permite sa oferim atributelor functionalitatea de getters, setters si deleters, precum putem vedea in alte limbaje de programare."
   ]
  },
  {
   "cell_type": "code",
   "execution_count": 4,
   "id": "36caef85",
   "metadata": {},
   "outputs": [],
   "source": [
    "emp_1 = Employee('Andrei', 'Georgiu', 50000)\n"
   ]
  },
  {
   "cell_type": "code",
   "execution_count": 5,
   "id": "181aed61",
   "metadata": {},
   "outputs": [
    {
     "name": "stdout",
     "output_type": "stream",
     "text": [
      "Andrei\n",
      "Andrei.Georgiu@company.com\n",
      "Andrei Georgiu\n"
     ]
    }
   ],
   "source": [
    "print(emp_1.first_name)\n",
    "print(emp_1.email)\n",
    "print(emp_1.fullname())\n"
   ]
  },
  {
   "cell_type": "markdown",
   "id": "781df108",
   "metadata": {},
   "source": [
    "Dupa cum ne-am obisnuit, metoda init se ocupa de crearea email-ului pentru instanta creata din Employee, email care este alcatuit din first_name.last_name@company.com. Email-ul depinde de valoare pe care o au atributele first_name si last_name. Urmeaza sa modificam valoarea de first_name pentru a vedea ce se intampla"
   ]
  },
  {
   "cell_type": "code",
   "execution_count": 7,
   "id": "303ddf53",
   "metadata": {},
   "outputs": [],
   "source": [
    "emp_1.first_name = 'Georgian'\n"
   ]
  },
  {
   "cell_type": "code",
   "execution_count": 8,
   "id": "77c5221a",
   "metadata": {},
   "outputs": [
    {
     "name": "stdout",
     "output_type": "stream",
     "text": [
      "Georgian\n",
      "Andrei.Georgiu@company.com\n",
      "Georgian Georgiu\n"
     ]
    }
   ],
   "source": [
    "print(emp_1.first_name)\n",
    "print(emp_1.email)\n",
    "print(emp_1.fullname())\n"
   ]
  },
  {
   "cell_type": "markdown",
   "id": "67b0e69b",
   "metadata": {},
   "source": [
    "Se poate observa ca atributele de first_name si fullname() sunt modificate deoarece acestea preiau valoare curenta a instantei utilizand 'self', insa pentru crearea email-ului nu se utilizeaza asa ceva, acesta ia prima valoare care a fost trecut ca si argument in momentul creeri instantei"
   ]
  },
  {
   "cell_type": "markdown",
   "id": "4678adf6",
   "metadata": {},
   "source": [
    "Acest caz este un bun exemplu de getters sau setter din limbajul Java, pentru a repara acesta problema. Exista posibilitatea de a crea getters si setters si in Python utilizand decoratorul @property. Acest decorator ne permite sa creem o metoda, dar sa o accesam ca pe un atribut"
   ]
  },
  {
   "cell_type": "markdown",
   "id": "bb2a098c",
   "metadata": {},
   "source": [
    "Pentru a intelege cum functioneaza, initial o sa creem o metoda care ne creeaza email-ul pentru fiecare instanta, metoda asemanatoare cu metoda fullname()"
   ]
  },
  {
   "cell_type": "code",
   "execution_count": 9,
   "id": "631e9ed5",
   "metadata": {},
   "outputs": [],
   "source": [
    "class Employee():\n",
    "    \n",
    "    def __init__(self, first_name, last_name):\n",
    "        self.first_name = first_name\n",
    "        self.last_name = last_name\n",
    "        \n",
    "    def fullname(self):\n",
    "        return f'{self.first_name} {self.last_name}'\n",
    "    \n",
    "    def email(self):\n",
    "        return f'{self.first_name}.{self.last_name}@company.com'\n",
    "    "
   ]
  },
  {
   "cell_type": "code",
   "execution_count": 10,
   "id": "38a34ba4",
   "metadata": {},
   "outputs": [],
   "source": [
    "emp_1 = Employee('Andrei', 'Georgiu')\n"
   ]
  },
  {
   "cell_type": "code",
   "execution_count": 11,
   "id": "81c9c83e",
   "metadata": {},
   "outputs": [
    {
     "name": "stdout",
     "output_type": "stream",
     "text": [
      "Andrei\n",
      "Andrei.Georgiu@company.com\n",
      "Andrei Georgiu\n"
     ]
    }
   ],
   "source": [
    "print(emp_1.first_name)\n",
    "print(emp_1.email())\n",
    "print(emp_1.fullname())\n"
   ]
  },
  {
   "cell_type": "code",
   "execution_count": 12,
   "id": "da781356",
   "metadata": {},
   "outputs": [],
   "source": [
    "emp_1.first_name = 'Georgian'\n"
   ]
  },
  {
   "cell_type": "code",
   "execution_count": 13,
   "id": "e9a89e3f",
   "metadata": {},
   "outputs": [
    {
     "name": "stdout",
     "output_type": "stream",
     "text": [
      "Georgian\n",
      "Georgian.Georgiu@company.com\n",
      "Georgian Georgiu\n"
     ]
    }
   ],
   "source": [
    "print(emp_1.first_name)\n",
    "print(emp_1.email())\n",
    "print(emp_1.fullname())\n"
   ]
  },
  {
   "cell_type": "markdown",
   "id": "f0414a7b",
   "metadata": {},
   "source": [
    "Dupa cum se observa, in momentul in care am creat metoda respectiva, in acest moment email-ul se creeaza folosind noua valoare pentru fist_name, insa problema este ca acum acesta este o metoda, prin urmare trebuie apelata cu setul de paranteze rotunde. Acesta poate reprezenta o problema, deoarece inainte unde se utiliza email ca si atribut (emp_1.email), acum trebuie sa se utilizeze precum o metoda (emp_1.email()). Nu dorim sa cautam prin tot codul pentru a face aceste modificari"
   ]
  },
  {
   "cell_type": "markdown",
   "id": "5b38bbb4",
   "metadata": {},
   "source": [
    "Aceasta problema se poate rezolva prin adaugarea decoratorului @property inainte de metoda, decorator care ne permite sa apelam o metoda precum un atribut"
   ]
  },
  {
   "cell_type": "code",
   "execution_count": 14,
   "id": "01224d43",
   "metadata": {},
   "outputs": [],
   "source": [
    "class Employee():\n",
    "    \n",
    "    def __init__(self, first_name, last_name):\n",
    "        self.first_name = first_name\n",
    "        self.last_name = last_name\n",
    "        \n",
    "    def fullname(self):\n",
    "        return f'{self.first_name} {self.last_name}'\n",
    "    \n",
    "    @property\n",
    "    def email(self):\n",
    "        return f'{self.first_name}.{self.last_name}@company.com'\n",
    "    "
   ]
  },
  {
   "cell_type": "code",
   "execution_count": 15,
   "id": "66679e43",
   "metadata": {},
   "outputs": [],
   "source": [
    "emp_1 = Employee('Andrei', 'Georgiu')\n"
   ]
  },
  {
   "cell_type": "code",
   "execution_count": 16,
   "id": "a133c288",
   "metadata": {},
   "outputs": [
    {
     "name": "stdout",
     "output_type": "stream",
     "text": [
      "Andrei\n"
     ]
    },
    {
     "ename": "TypeError",
     "evalue": "'str' object is not callable",
     "output_type": "error",
     "traceback": [
      "\u001b[0;31m---------------------------------------------------------------------------\u001b[0m",
      "\u001b[0;31mTypeError\u001b[0m                                 Traceback (most recent call last)",
      "\u001b[0;32m/tmp/ipykernel_9371/4053008600.py\u001b[0m in \u001b[0;36m<module>\u001b[0;34m\u001b[0m\n\u001b[1;32m      1\u001b[0m \u001b[0mprint\u001b[0m\u001b[0;34m(\u001b[0m\u001b[0memp_1\u001b[0m\u001b[0;34m.\u001b[0m\u001b[0mfirst_name\u001b[0m\u001b[0;34m)\u001b[0m\u001b[0;34m\u001b[0m\u001b[0;34m\u001b[0m\u001b[0m\n\u001b[0;32m----> 2\u001b[0;31m \u001b[0mprint\u001b[0m\u001b[0;34m(\u001b[0m\u001b[0memp_1\u001b[0m\u001b[0;34m.\u001b[0m\u001b[0memail\u001b[0m\u001b[0;34m(\u001b[0m\u001b[0;34m)\u001b[0m\u001b[0;34m)\u001b[0m\u001b[0;34m\u001b[0m\u001b[0;34m\u001b[0m\u001b[0m\n\u001b[0m\u001b[1;32m      3\u001b[0m \u001b[0mprint\u001b[0m\u001b[0;34m(\u001b[0m\u001b[0memp_1\u001b[0m\u001b[0;34m.\u001b[0m\u001b[0mfullname\u001b[0m\u001b[0;34m(\u001b[0m\u001b[0;34m)\u001b[0m\u001b[0;34m)\u001b[0m\u001b[0;34m\u001b[0m\u001b[0;34m\u001b[0m\u001b[0m\n",
      "\u001b[0;31mTypeError\u001b[0m: 'str' object is not callable"
     ]
    }
   ],
   "source": [
    "print(emp_1.first_name)\n",
    "print(emp_1.email())\n",
    "print(emp_1.fullname())\n"
   ]
  },
  {
   "cell_type": "markdown",
   "id": "4bf04550",
   "metadata": {},
   "source": [
    "Desi 'email()' este o metoda, din moment ce am adaugat decoratorul de property, primi o eroare daca incercam sa o apelam"
   ]
  },
  {
   "cell_type": "code",
   "execution_count": 17,
   "id": "abfc27a7",
   "metadata": {},
   "outputs": [
    {
     "name": "stdout",
     "output_type": "stream",
     "text": [
      "Andrei\n",
      "Andrei.Georgiu@company.com\n",
      "Andrei Georgiu\n"
     ]
    }
   ],
   "source": [
    "print(emp_1.first_name)\n",
    "print(emp_1.email)\n",
    "print(emp_1.fullname())\n"
   ]
  },
  {
   "cell_type": "markdown",
   "id": "3a2e01f8",
   "metadata": {},
   "source": [
    "In momentul in care se acceseaza precum un atribut, codul functioneaza"
   ]
  },
  {
   "cell_type": "markdown",
   "id": "682236b9",
   "metadata": {},
   "source": [
    "Putem sa facem acelasi lucru si cu metoda fullname(), sa o trasformam intr-un atribut. Sa mai presupunem ca in cazul in care un angajat isi schimba numele, prin schimbarea numelui intreg automat sa se schimbe si first_name, last_name si email\n",
    "\n",
    "1. emp_1.fullname = 'Georgian Sfechis'\n",
    "\n",
    "Prin codul de mai sus dorim sa modificam:\n",
    "1. self.first_name = 'Georgian'\n",
    "2. self.last_name = 'Sfechis'\n",
    "3. self.email = Geoargian.Sfechis@company.com"
   ]
  },
  {
   "cell_type": "code",
   "execution_count": 18,
   "id": "8bcaf291",
   "metadata": {},
   "outputs": [],
   "source": [
    "class Employee():\n",
    "    \n",
    "    def __init__(self, first_name, last_name):\n",
    "        self.first_name = first_name\n",
    "        self.last_name = last_name\n",
    "        \n",
    "    @property\n",
    "    def fullname(self):\n",
    "        return f'{self.first_name} {self.last_name}'\n",
    "    \n",
    "    @property\n",
    "    def email(self):\n",
    "        return f'{self.first_name}.{self.last_name}@company.com'\n",
    "    "
   ]
  },
  {
   "cell_type": "code",
   "execution_count": 19,
   "id": "53ca2124",
   "metadata": {},
   "outputs": [],
   "source": [
    "emp_1 = Employee('Andrei', 'Georgiu')\n"
   ]
  },
  {
   "cell_type": "code",
   "execution_count": 20,
   "id": "134f7088",
   "metadata": {},
   "outputs": [
    {
     "name": "stdout",
     "output_type": "stream",
     "text": [
      "Andrei\n",
      "Andrei.Georgiu@company.com\n",
      "Andrei Georgiu\n"
     ]
    }
   ],
   "source": [
    "print(emp_1.first_name)\n",
    "print(emp_1.email)\n",
    "print(emp_1.fullname)\n"
   ]
  },
  {
   "cell_type": "code",
   "execution_count": 21,
   "id": "2d5df7b4",
   "metadata": {},
   "outputs": [
    {
     "ename": "AttributeError",
     "evalue": "can't set attribute",
     "output_type": "error",
     "traceback": [
      "\u001b[0;31m---------------------------------------------------------------------------\u001b[0m",
      "\u001b[0;31mAttributeError\u001b[0m                            Traceback (most recent call last)",
      "\u001b[0;32m/tmp/ipykernel_9371/23943835.py\u001b[0m in \u001b[0;36m<module>\u001b[0;34m\u001b[0m\n\u001b[0;32m----> 1\u001b[0;31m \u001b[0memp_1\u001b[0m\u001b[0;34m.\u001b[0m\u001b[0mfullname\u001b[0m \u001b[0;34m=\u001b[0m \u001b[0;34m'Georgian Sfechis'\u001b[0m\u001b[0;34m\u001b[0m\u001b[0;34m\u001b[0m\u001b[0m\n\u001b[0m",
      "\u001b[0;31mAttributeError\u001b[0m: can't set attribute"
     ]
    }
   ],
   "source": [
    "emp_1.fullname = 'Georgian Sfechis'"
   ]
  },
  {
   "cell_type": "markdown",
   "id": "4e838411",
   "metadata": {},
   "source": [
    "Daca incercam in acest moment sa setam noua valoare pentru 'fullname' o sa primim o eroare: can't set attribute"
   ]
  },
  {
   "cell_type": "markdown",
   "id": "292b6c41",
   "metadata": {},
   "source": [
    "Pentru a putea realiza acesta operatiune trebuie sa creem un setter. Acesta se creeaza prin introducerea unui decorator care o sa fie de forma:\n",
    "\n",
    "@method_name.setter\n"
   ]
  },
  {
   "cell_type": "code",
   "execution_count": 22,
   "id": "5ff90d79",
   "metadata": {},
   "outputs": [],
   "source": [
    "class Employee():\n",
    "    \n",
    "    def __init__(self, first_name, last_name):\n",
    "        self.first_name = first_name\n",
    "        self.last_name = last_name\n",
    "        \n",
    "    @property\n",
    "    def fullname(self):\n",
    "        return f'{self.first_name} {self.last_name}'\n",
    "    \n",
    "    @property\n",
    "    def email(self):\n",
    "        return f'{self.first_name}.{self.last_name}@company.com'\n",
    "    \n",
    "    @fullname.setter\n",
    "    def fullname(self, name):\n",
    "        first_name, last_name = name.split(' ')\n",
    "        self.first_name = first_name\n",
    "        self.last_name = last_name\n",
    "        "
   ]
  },
  {
   "cell_type": "code",
   "execution_count": 23,
   "id": "6167858f",
   "metadata": {},
   "outputs": [],
   "source": [
    "emp_1 = Employee('Andrei', 'Georgiu')\n"
   ]
  },
  {
   "cell_type": "code",
   "execution_count": 24,
   "id": "211ee87f",
   "metadata": {},
   "outputs": [
    {
     "name": "stdout",
     "output_type": "stream",
     "text": [
      "Andrei\n",
      "Andrei Georgiu\n",
      "Andrei.Georgiu@company.com\n"
     ]
    }
   ],
   "source": [
    "print(emp_1.first_name)\n",
    "print(emp_1.fullname)\n",
    "print(emp_1.email)\n"
   ]
  },
  {
   "cell_type": "code",
   "execution_count": 25,
   "id": "91380fe4",
   "metadata": {},
   "outputs": [],
   "source": [
    "emp_1.fullname = 'Georgian Sfechis'\n"
   ]
  },
  {
   "cell_type": "code",
   "execution_count": 26,
   "id": "9888cf53",
   "metadata": {},
   "outputs": [
    {
     "name": "stdout",
     "output_type": "stream",
     "text": [
      "Georgian\n",
      "Georgian Sfechis\n",
      "Georgian.Sfechis@company.com\n"
     ]
    }
   ],
   "source": [
    "print(emp_1.first_name)\n",
    "print(emp_1.fullname)\n",
    "print(emp_1.email)\n"
   ]
  },
  {
   "cell_type": "markdown",
   "id": "e3adb6f9",
   "metadata": {},
   "source": [
    "In momentul in care am utilizat codul 'emp_1.fullname = 'Georgian Sfechis'', programul merge la metoda @fullname.setter si seteaza noile valori pentru atributele 'first_name' si 'last_name'. Din moment ce am setat aceste atribute, automat se modifica si atributele de 'fullname' si 'email'"
   ]
  },
  {
   "cell_type": "markdown",
   "id": "4041d1f5",
   "metadata": {},
   "source": [
    "In aceeasi idee se seteaza si un deleter pentru un anumit atribut"
   ]
  },
  {
   "cell_type": "code",
   "execution_count": 27,
   "id": "b440a973",
   "metadata": {},
   "outputs": [],
   "source": [
    "class Employee():\n",
    "    \n",
    "    def __init__(self, first_name, last_name):\n",
    "        self.first_name = first_name\n",
    "        self.last_name = last_name\n",
    "        \n",
    "    @property\n",
    "    def fullname(self):\n",
    "        return f'{self.first_name} {self.last_name}'\n",
    "    \n",
    "    @property\n",
    "    def email(self):\n",
    "        return f'{self.first_name}.{self.last_name}@company.com'\n",
    "    \n",
    "    @fullname.setter\n",
    "    def fullname(self, name):\n",
    "        first_name, last_name = name.split(' ')\n",
    "        self.first_name = first_name\n",
    "        self.last_name = last_name\n",
    "        \n",
    "    @fullname.deleter\n",
    "    def fullname(self):\n",
    "        print('Deleting name...!')\n",
    "        self.first_name = None\n",
    "        self.last_name = None\n",
    "        "
   ]
  },
  {
   "cell_type": "code",
   "execution_count": 28,
   "id": "28cc9b80",
   "metadata": {},
   "outputs": [],
   "source": [
    "emp_1 = Employee('Andrei', 'Georgiu')\n"
   ]
  },
  {
   "cell_type": "code",
   "execution_count": 29,
   "id": "e884f66e",
   "metadata": {},
   "outputs": [
    {
     "name": "stdout",
     "output_type": "stream",
     "text": [
      "Andrei Georgiu\n"
     ]
    }
   ],
   "source": [
    "print(emp_1.fullname)\n"
   ]
  },
  {
   "cell_type": "code",
   "execution_count": 30,
   "id": "c01925af",
   "metadata": {},
   "outputs": [
    {
     "name": "stdout",
     "output_type": "stream",
     "text": [
      "Deleting name...!\n"
     ]
    }
   ],
   "source": [
    "del emp_1.fullname\n"
   ]
  },
  {
   "cell_type": "code",
   "execution_count": 31,
   "id": "54ea7e09",
   "metadata": {},
   "outputs": [
    {
     "name": "stdout",
     "output_type": "stream",
     "text": [
      "None None\n"
     ]
    }
   ],
   "source": [
    "print(emp_1.fullname)\n"
   ]
  },
  {
   "cell_type": "code",
   "execution_count": null,
   "id": "e1aaded0",
   "metadata": {},
   "outputs": [],
   "source": []
  }
 ],
 "metadata": {
  "kernelspec": {
   "display_name": "Python 3 (ipykernel)",
   "language": "python",
   "name": "python3"
  },
  "language_info": {
   "codemirror_mode": {
    "name": "ipython",
    "version": 3
   },
   "file_extension": ".py",
   "mimetype": "text/x-python",
   "name": "python",
   "nbconvert_exporter": "python",
   "pygments_lexer": "ipython3",
   "version": "3.9.7"
  }
 },
 "nbformat": 4,
 "nbformat_minor": 5
}
