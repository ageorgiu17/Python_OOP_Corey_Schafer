{
 "cells": [
  {
   "cell_type": "code",
   "execution_count": 1,
   "id": "b30d1279",
   "metadata": {},
   "outputs": [],
   "source": [
    "class Employee():\n",
    "    \n",
    "    raise_amount = 1.04\n",
    "    nums_of_emps = 0\n",
    "    \n",
    "    def __init__(self, first_name, last_name, pay):\n",
    "        self.first_name = first_name\n",
    "        self.last_name = last_name\n",
    "        self.pay = pay\n",
    "        self.email = f'{first_name}.{last_name}@company.com'\n",
    "        \n",
    "        Employee.nums_of_emps += 1\n",
    "        \n",
    "    def fullname(self):\n",
    "        return f'{self.first_name} {self.last_name}'\n",
    "    \n",
    "    def apply_raise(self):\n",
    "        self.pay = int(self.pay * self.raise_amount)\n",
    "        "
   ]
  },
  {
   "cell_type": "code",
   "execution_count": 2,
   "id": "0e13f12f",
   "metadata": {},
   "outputs": [
    {
     "name": "stdout",
     "output_type": "stream",
     "text": [
      "0\n"
     ]
    }
   ],
   "source": [
    "print(Employee.nums_of_emps)\n"
   ]
  },
  {
   "cell_type": "code",
   "execution_count": 3,
   "id": "c29ac2bc",
   "metadata": {},
   "outputs": [
    {
     "name": "stdout",
     "output_type": "stream",
     "text": [
      "1\n"
     ]
    }
   ],
   "source": [
    "emp_1 = Employee('Andrei', 'Georgiu', 50000)\n",
    "print(Employee.nums_of_emps)\n"
   ]
  },
  {
   "cell_type": "markdown",
   "id": "5105d462",
   "metadata": {},
   "source": [
    "Pana in acest moment am vazut ca putem avea in cadrul unor clase atat instance variable (atribute ce tin de instanta) cat si class variabile (atribute ce tin de clasa). Acest lucru se poate sa se intample si in cazul metodelor, pentru clasa putand sa existe metode regulate (normale), metode de clase (classmethods) si metode statice (staticmethods)"
   ]
  },
  {
   "cell_type": "markdown",
   "id": "03fda528",
   "metadata": {},
   "source": [
    "Dupa cum am invatat pana in acest moment, metodele regulate automat iau ca si prim argument instanta in sine (self). Daca o metoda regulata ia instanta in sine ca si prim argument, cum se poate sa facem ca sa luam clasa ca si prim argument. Pentru asta o sa folosim classmethods, iar pentru a transforma o metoda regulata in 'classmethod' este necesar sa adaugaum un decorator deasupra metodei care poarta denumirea de '@classmethod'"
   ]
  },
  {
   "cell_type": "code",
   "execution_count": 5,
   "id": "9dd5efa1",
   "metadata": {},
   "outputs": [],
   "source": [
    "class Employee():\n",
    "    \n",
    "    raise_amount = 1.04\n",
    "    nums_of_emps = 0\n",
    "    \n",
    "    def __init__(self, first_name, last_name, pay):\n",
    "        self.first_name = first_name\n",
    "        self.last_name = last_name\n",
    "        self.pay = pay\n",
    "        self.email = f'{first_name}.{last_name}@company.com'\n",
    "        \n",
    "        Employee.nums_of_emps += 1\n",
    "        \n",
    "    def fullname(self):\n",
    "        return f'{self.first_name} {self.last_name}'\n",
    "    \n",
    "    def apply_raise(self):\n",
    "        self.pay = int(self.pay * self.raise_amount)\n",
    "        \n",
    "    @classmethod\n",
    "    def set_raise_amount(cls, amount):\n",
    "        cls.raise_amount = amount\n",
    "        "
   ]
  },
  {
   "cell_type": "markdown",
   "id": "837c0e7a",
   "metadata": {},
   "source": [
    "Practic ce face acest decorator, acesta alterneaza metoda respectiva astfel incat sa putem sa luam ca si prim argument clasa in sine. Prin conventie, la clasele regulate primul argumet s-a definit sa poarte denumirea de 'self'. Tot prin conventie in cadrul classmethods, primul argument poarta denumirea de 'cls' (prescurtarea de la class). Nu se poate utiliza class deoarece acesta este rezervat in Python pentru definirea clasei"
   ]
  },
  {
   "cell_type": "code",
   "execution_count": 6,
   "id": "c2de53e3",
   "metadata": {},
   "outputs": [],
   "source": [
    "emp_1 = Employee('Andrei', 'Georgiu', 50000)\n",
    "emp_2 = Employee('Test', 'User', 60000)\n"
   ]
  },
  {
   "cell_type": "code",
   "execution_count": 9,
   "id": "b3ad5cbf",
   "metadata": {},
   "outputs": [
    {
     "name": "stdout",
     "output_type": "stream",
     "text": [
      "1.04\n",
      "1.04\n",
      "1.04\n"
     ]
    }
   ],
   "source": [
    "print(Employee.raise_amount)\n",
    "print(emp_1.raise_amount)\n",
    "print(emp_2.raise_amount)\n"
   ]
  },
  {
   "cell_type": "markdown",
   "id": "0adf2a91",
   "metadata": {},
   "source": [
    "Am creat doua instante ale clasei si am accesat pentru clasa respectiva cat si pentru instantele din clasa respectiva valorile pentru atributul raise_amount (toate au valoarea 1.04). Putem sa utilizam metoda de clasa 'set_raise_amount' pentru a modifica valoarea atributului 'raise_amount'. Acesta metoda trbuie utilizata cu clasa, iar ca si prim argument nu trebuie sa trecem nimic, deoarece la fel ca si in cazul metodelor regulate (unde instanta se trece automat ca si prim argument) si in cazul classmethods, clasa in sine este trecuta automat ca si prim argument"
   ]
  },
  {
   "cell_type": "code",
   "execution_count": 10,
   "id": "d4aeb49e",
   "metadata": {},
   "outputs": [],
   "source": [
    "Employee.set_raise_amount(1.05)\n"
   ]
  },
  {
   "cell_type": "code",
   "execution_count": 11,
   "id": "b8ec1f7f",
   "metadata": {},
   "outputs": [
    {
     "name": "stdout",
     "output_type": "stream",
     "text": [
      "1.05\n",
      "1.05\n",
      "1.05\n"
     ]
    }
   ],
   "source": [
    "print(Employee.raise_amount)\n",
    "print(emp_1.raise_amount)\n",
    "print(emp_2.raise_amount)\n"
   ]
  },
  {
   "cell_type": "markdown",
   "id": "578b5e77",
   "metadata": {},
   "source": [
    "Metoda ce am creat-o mai sus este echivalentul a 'Employee.raise_amount = 1.05', insa in cazul nostru am utilizat o metoda de clasa pentru a face acesta atribuire."
   ]
  },
  {
   "cell_type": "markdown",
   "id": "90b1ad1c",
   "metadata": {},
   "source": [
    "Exista multe cazuri in care unii developeri folosesc classmethods ca si alternativa de constructor. Ce vreau sa zic prin asta este ca acestia creeaza o metoda de clasa prin care se poate crea o instanta a clasei utilizand acea metoda. Pentru un bun exemplu o sa presupunem ca o sa avem un set de date de tipul 'Joe-Doe-70000' unde fiecare element reprezinta first_name, last_name si pay, elementele necesare pentru a crea o instanta. Aceste elemente insa sunt prezente sub forma unui string si sunt despartite prin semnul '-'. O sa trecem printr-o serie de linii de cod pentru a vedea cum putem crea o instanta dupa acel string"
   ]
  },
  {
   "cell_type": "code",
   "execution_count": 12,
   "id": "a5d163cf",
   "metadata": {},
   "outputs": [],
   "source": [
    "emp_3_str = 'Joe-Doe-70000'\n"
   ]
  },
  {
   "cell_type": "code",
   "execution_count": 14,
   "id": "382858f2",
   "metadata": {},
   "outputs": [],
   "source": [
    "first_name, last_name, pay = emp_3_str.split('-')\n"
   ]
  },
  {
   "cell_type": "code",
   "execution_count": 15,
   "id": "2a97b800",
   "metadata": {},
   "outputs": [],
   "source": [
    "emp_3 = Employee(first_name, last_name, pay)\n"
   ]
  },
  {
   "cell_type": "code",
   "execution_count": 16,
   "id": "9f19f90e",
   "metadata": {},
   "outputs": [
    {
     "name": "stdout",
     "output_type": "stream",
     "text": [
      "Joe.Doe@company.com\n",
      "70000\n"
     ]
    }
   ],
   "source": [
    "print(emp_3.email)\n",
    "print(emp_3.pay)\n"
   ]
  },
  {
   "cell_type": "markdown",
   "id": "708f145b",
   "metadata": {},
   "source": [
    "Dupa cum se observa, instanta a fost creata. Daca acest tip de date este primit des si de fiecare data trebuie splituit stringul pentru a se putea crea instanta, atunci in acest caz se poate crea o metoda de clasa care sa fie pe post de constructor alternativ"
   ]
  },
  {
   "cell_type": "markdown",
   "id": "9e40cb2a",
   "metadata": {},
   "source": [
    "Prin conventie aceste metode de clasa ce sunt pe post de constructor alternatic incep cu 'from', insa iar, este doar o conventie"
   ]
  },
  {
   "cell_type": "code",
   "execution_count": 17,
   "id": "cbaa2e64",
   "metadata": {},
   "outputs": [],
   "source": [
    "class Employee():\n",
    "    \n",
    "    raise_amount = 1.04\n",
    "    nums_of_emps = 0\n",
    "    \n",
    "    def __init__(self, first_name, last_name, pay):\n",
    "        self.first_name = first_name\n",
    "        self.last_name = last_name\n",
    "        self.pay = pay\n",
    "        self.email = f'{first_name}.{last_name}@company.com'\n",
    "        \n",
    "        Employee.nums_of_emps += 1\n",
    "        \n",
    "    def fullname(self):\n",
    "        return f'{self.first_name} {self.last_name}'\n",
    "    \n",
    "    def apply_raise(self):\n",
    "        self.pay = int(self.pay * self.raise_amount)\n",
    "        \n",
    "    @classmethod\n",
    "    def set_raise_amount(cls, amount):\n",
    "        cls.raise_amount = amount\n",
    "        \n",
    "    @classmethod\n",
    "    def from_string(cls, emp_str):\n",
    "        first_name, last_name, pay = emp_str.split('-')\n",
    "        return cls(first_name, last_name, pay)\n",
    "    "
   ]
  },
  {
   "cell_type": "markdown",
   "id": "891ecc6a",
   "metadata": {},
   "source": [
    "Explicatia pentru linia de cod 'return cls(first_name, last_name, pay)."
   ]
  },
  {
   "cell_type": "markdown",
   "id": "0221a909",
   "metadata": {},
   "source": [
    "Dupa cum spuneam, in cadrul classmethods, clasa in sine este trecuta prima data ca si argument, prin urmare 'cls(first_name, last_name, pay)' o sa fie transformat in 'Employee(first_name, last_name, pay)', iar acest cod creeaza o nou instanta. Codul de mai sus insa doar creeaza instanta respectiva, insa acesta trebuie si returnate, prin urmare se adauga si 'return' inainte"
   ]
  },
  {
   "cell_type": "markdown",
   "id": "e5473015",
   "metadata": {},
   "source": [
    "In acest moment avem creat constructorul alternativ si se poate utiliza pentru a crea instante noi"
   ]
  },
  {
   "cell_type": "code",
   "execution_count": 18,
   "id": "cfdbaf4c",
   "metadata": {},
   "outputs": [],
   "source": [
    "emp_1_str = 'Joe-Doe-70000'\n"
   ]
  },
  {
   "cell_type": "code",
   "execution_count": 19,
   "id": "6815764e",
   "metadata": {},
   "outputs": [],
   "source": [
    "emp_1 = Employee.from_string(emp_1_str)\n"
   ]
  },
  {
   "cell_type": "code",
   "execution_count": 20,
   "id": "24a80931",
   "metadata": {},
   "outputs": [
    {
     "name": "stdout",
     "output_type": "stream",
     "text": [
      "Joe.Doe@company.com\n",
      "Joe Doe\n"
     ]
    }
   ],
   "source": [
    "print(emp_1.email)\n",
    "print(emp_1.fullname())\n"
   ]
  },
  {
   "cell_type": "markdown",
   "id": "13f0fd80",
   "metadata": {},
   "source": [
    "Dupa cum spuneam, metodele regulare (regular class) preiau ca si prim argument instanta in sine (prin conventie se denumeste 'self), metodele de clasa (@classmethod) iau ca si prim argument clasa in sine (prin conventie, acest argument poarta denumirea de 'cls'), iar metodele statice (@staticmethod) nu preiau nimic ca si argument, nici instanta nici clasa. Aceste metode (statice) se comporta ca si functii normale insa le trecem in cadrul clasei doarece au o conexiune logica cu clasa respectiva"
   ]
  },
  {
   "cell_type": "markdown",
   "id": "4700132c",
   "metadata": {},
   "source": [
    "Un exemplu in cadrul acestui cod ar fi ideea de a verifca daca o anumita zi este o zi de munca sau nu (este nevoie de modului datetime). Aceasta metoda nu depinde nici de clasa, nici de o instanta, depinde de ziua respectiva pe care dorim sa o verificam. Pentru a crea o metoda statica, trebuie sa trecem decoratorul @staticmethod inainte de definirea metodei"
   ]
  },
  {
   "cell_type": "code",
   "execution_count": 21,
   "id": "b0adeae3",
   "metadata": {},
   "outputs": [],
   "source": [
    "class Employee():\n",
    "    \n",
    "    raise_amount = 1.04\n",
    "    nums_of_emps = 0\n",
    "    \n",
    "    def __init__(self, first_name, last_name, pay):\n",
    "        self.first_name = first_name\n",
    "        self.last_name = last_name\n",
    "        self.pay = pay\n",
    "        self.email = f'{first_name}.{last_name}@company.com'\n",
    "        \n",
    "        Employee.nums_of_emps += 1\n",
    "        \n",
    "    def fullname(self):\n",
    "        return f'{self.first_name} {self.last_name}'\n",
    "    \n",
    "    def apply_raise(self):\n",
    "        self.pay = int(self.pay * self.raise_amount)\n",
    "        \n",
    "    @classmethod\n",
    "    def set_raise_amount(cls, amount):\n",
    "        cls.raise_amount = amount\n",
    "        \n",
    "    @classmethod\n",
    "    def from_string(cls, emp_str):\n",
    "        first_name, last_name, pay = emp_str.split('-')\n",
    "        return cls(first_name, last_name, pay)\n",
    "    \n",
    "    @staticmethod\n",
    "    def is_workday(day):\n",
    "        if day.weekday() == 5 or day.weekday() == 6:\n",
    "            return False\n",
    "        return True\n",
    "    "
   ]
  },
  {
   "cell_type": "code",
   "execution_count": 22,
   "id": "968c2ed0",
   "metadata": {},
   "outputs": [],
   "source": [
    "import datetime\n",
    "my_date = datetime.date(2016, 7, 10)\n"
   ]
  },
  {
   "cell_type": "code",
   "execution_count": 23,
   "id": "90a0df3e",
   "metadata": {},
   "outputs": [
    {
     "name": "stdout",
     "output_type": "stream",
     "text": [
      "False\n"
     ]
    }
   ],
   "source": [
    "print(Employee.is_workday(my_date))\n"
   ]
  },
  {
   "cell_type": "code",
   "execution_count": 24,
   "id": "407e8740",
   "metadata": {},
   "outputs": [],
   "source": [
    "my_date2 = datetime.date(2017, 7, 11)\n"
   ]
  },
  {
   "cell_type": "code",
   "execution_count": 26,
   "id": "7621d191",
   "metadata": {},
   "outputs": [
    {
     "name": "stdout",
     "output_type": "stream",
     "text": [
      "True\n"
     ]
    }
   ],
   "source": [
    "print(Employee.is_workday(my_date2))\n"
   ]
  },
  {
   "cell_type": "markdown",
   "id": "48b82913",
   "metadata": {},
   "source": [
    "O metoda este statica daca in cadrul acesteia nu se acceseaza instanta sau clasa in sine in cadrul functiei respective. Daca se utilizeaza clasa in cadrul functiei, atunci metoda este @classmethod, daca se utilizeaza instanta unei clase (self) atunci acesta functie o sa fie o metoda regulata, iar daca nu se utilizeaza niciuna dintre ele, acesta o sa fie @staticmethod"
   ]
  },
  {
   "cell_type": "code",
   "execution_count": null,
   "id": "2d47de1b",
   "metadata": {},
   "outputs": [],
   "source": []
  }
 ],
 "metadata": {
  "kernelspec": {
   "display_name": "Python 3 (ipykernel)",
   "language": "python",
   "name": "python3"
  },
  "language_info": {
   "codemirror_mode": {
    "name": "ipython",
    "version": 3
   },
   "file_extension": ".py",
   "mimetype": "text/x-python",
   "name": "python",
   "nbconvert_exporter": "python",
   "pygments_lexer": "ipython3",
   "version": "3.9.7"
  }
 },
 "nbformat": 4,
 "nbformat_minor": 5
}
