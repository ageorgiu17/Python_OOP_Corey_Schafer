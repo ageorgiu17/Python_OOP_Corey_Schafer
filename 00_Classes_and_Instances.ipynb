{
 "cells": [
  {
   "cell_type": "markdown",
   "id": "4545dc49",
   "metadata": {},
   "source": [
    "Clasele ne permit sa ne grupam datele si functiile intr-o mainiera usoara de folosit si refolosit. Prin date si functii ne referim la atribute si metode. Metoda este doar o functie care este atribuita unei clase"
   ]
  },
  {
   "cell_type": "markdown",
   "id": "5bf8a78e",
   "metadata": {},
   "source": [
    "In cadrul unei aplicatii de firma, un mod bun de a reprezenta angajatii in codul Python este prin clase. Fiecare angajat este unic si o sa aiba anumite atribute si metode:\n",
    "1. nume\n",
    "2. prenume\n",
    "3. email\n",
    "4. salariu"
   ]
  },
  {
   "cell_type": "markdown",
   "id": "7d17d882",
   "metadata": {},
   "source": [
    "Modul de a crea o clasa este prin utilizarea cuvantului cheie 'Class'"
   ]
  },
  {
   "cell_type": "code",
   "execution_count": 1,
   "id": "4216619a",
   "metadata": {},
   "outputs": [],
   "source": [
    "class Employee():\n",
    "    pass\n"
   ]
  },
  {
   "cell_type": "markdown",
   "id": "bdbd442e",
   "metadata": {},
   "source": [
    "In acest moment avem o clasa care momentan nu are niciun atribut si nicio metoda. Clasa reprezinta un model (blueprint) pentru a crea obiecte (instances). Fiecare angajat ce o sa il creem utilizand clasa respectiva, o sa fie o instanta (un obiect) al acelei clase"
   ]
  },
  {
   "cell_type": "code",
   "execution_count": 2,
   "id": "5271e08b",
   "metadata": {},
   "outputs": [],
   "source": [
    "emp_1 = Employee()\n",
    "emp_2 = Employee()\n"
   ]
  },
  {
   "cell_type": "markdown",
   "id": "9fb03bd2",
   "metadata": {},
   "source": [
    "Atat emp_1 cat si emp_2 o sa fie obiecte diferite care fac parte din clasa Employee"
   ]
  },
  {
   "cell_type": "code",
   "execution_count": 3,
   "id": "c3e81459",
   "metadata": {},
   "outputs": [
    {
     "name": "stdout",
     "output_type": "stream",
     "text": [
      "<__main__.Employee object at 0x7fab7068a730>\n",
      "<__main__.Employee object at 0x7fab7068a7c0>\n"
     ]
    }
   ],
   "source": [
    "print(emp_1)\n",
    "print(emp_2)\n"
   ]
  },
  {
   "cell_type": "markdown",
   "id": "721e4c34",
   "metadata": {},
   "source": [
    "Variabilele de obiect (instance variables) contin date care sunt specifice fiecarui obiect creat. Acesta variabile pot fi create manual, dupa urmatorul model. Sa presupunem ca dorim ca obiectele create (emp_1 si emp_2) sa aiba first_name, last_name, email si pay"
   ]
  },
  {
   "cell_type": "code",
   "execution_count": 4,
   "id": "03d411ae",
   "metadata": {},
   "outputs": [],
   "source": [
    "emp_1.first_name = 'Andrei'\n",
    "emp_1.last_name = 'Georgiu'\n",
    "emp_1.email = 'Andrei.Georgiu@company.com'\n",
    "emp_1.pay = 50000\n"
   ]
  },
  {
   "cell_type": "code",
   "execution_count": 5,
   "id": "71a573d9",
   "metadata": {},
   "outputs": [],
   "source": [
    "emp_2.first_name = 'Test'\n",
    "emp_2.last_name = 'User'\n",
    "emp_2.email = 'Test.User@company.com'\n",
    "emp_2.pay = 60000\n"
   ]
  },
  {
   "cell_type": "code",
   "execution_count": 6,
   "id": "e6ee900f",
   "metadata": {},
   "outputs": [
    {
     "name": "stdout",
     "output_type": "stream",
     "text": [
      "Andrei.Georgiu@company.com\n",
      "Test.User@company.com\n"
     ]
    }
   ],
   "source": [
    "print(emp_1.email)\n",
    "print(emp_2.email)\n"
   ]
  },
  {
   "cell_type": "markdown",
   "id": "4d1868d0",
   "metadata": {},
   "source": [
    "Acum fiecare dintre cele 2 obiecte (emp_1 si emp_2) au aceste atribute care sunt unicate (first_name, last_name, emial si pay)"
   ]
  },
  {
   "cell_type": "markdown",
   "id": "12131d73",
   "metadata": {},
   "source": [
    "Setarea acestor atribute manual necesita mult cod. Acesta setare se poate realiza automat in momentul in care creem un obiect pentru clasa definita. Pentru a crea aceste atribute automat, se utilizeaza o metoda speciala denumita 'init' (\\_\\_init\\_\\_)"
   ]
  },
  {
   "cell_type": "markdown",
   "id": "b5f1e95f",
   "metadata": {},
   "source": [
    "In cadrul clasei respective se va trece automat metoda \\_\\_init\\_\\_(). Putem sa ne imaginam acesta metoda ca si un initializator, aceasta fiind echivalentul constructorului din C++ sau Java"
   ]
  },
  {
   "cell_type": "code",
   "execution_count": 7,
   "id": "61078c4c",
   "metadata": {},
   "outputs": [],
   "source": [
    "class Employee():\n",
    "    \n",
    "    def __init__(self):\n",
    "        pass\n",
    "    "
   ]
  },
  {
   "cell_type": "markdown",
   "id": "b341b459",
   "metadata": {},
   "source": [
    "Atunci cand creem metode in cadrul unei clase, acestea primesc automat ca si prim argument obiectul in sine care urmeaza a fi creat, iar prin conventie o sa denumi acest obiect 'self'. Dupa ce s-a adaugat primul argument ca fiind 'self', putem sa adaugam si restul argumentelor (first_name, last_name, pay = email o sa fie creat dupa first_name si last_name)"
   ]
  },
  {
   "cell_type": "code",
   "execution_count": 8,
   "id": "3885a7b9",
   "metadata": {},
   "outputs": [],
   "source": [
    "class Employee():\n",
    "    \n",
    "    def __init__(self, first_name, last_name, pay):\n",
    "        self.first_name = first_name\n",
    "        self.last_name = last_name\n",
    "        self.pay = pay\n",
    "        self.email = f'{first_name}.{last_name}@company.com'\n",
    "        "
   ]
  },
  {
   "cell_type": "markdown",
   "id": "c7433299",
   "metadata": {},
   "source": [
    "In momentul in care am initializat primul argument ca si obiectul in sine (self), in momentul in care setam self.first_name = first_name, programul in spate seteaza automat codul precum am setat manual atributele (emp_1.first_name = 'Andrei')"
   ]
  },
  {
   "cell_type": "markdown",
   "id": "fe8ea60b",
   "metadata": {},
   "source": [
    "In aceste momente, cand creem instante utilizand clasa in care este setata metoda magica init, putem trece argumentele intre paranteze in momentul in care creem noua instanta. Desi in cadrul meotidei \\_\\_init\\_\\_ sunt 4 parametrii (self, first_name, last_name, pay), in momentul in care se creeaza un obiect, argumentul pentru 'self' nu mai trebuie trecut deoarece acesta se trece automat, este destul sa oferim doar restul argumentelor"
   ]
  },
  {
   "cell_type": "code",
   "execution_count": 9,
   "id": "cef6c4d8",
   "metadata": {},
   "outputs": [],
   "source": [
    "emp_1 = Employee('Andrei', 'Georgiu', 50000)\n"
   ]
  },
  {
   "cell_type": "code",
   "execution_count": 10,
   "id": "71aa4a2f",
   "metadata": {},
   "outputs": [
    {
     "name": "stdout",
     "output_type": "stream",
     "text": [
      "<__main__.Employee object at 0x7fab706f89a0>\n",
      "Andrei.Georgiu@company.com\n"
     ]
    }
   ],
   "source": [
    "print(emp_1)\n",
    "print(emp_1.email)\n"
   ]
  },
  {
   "cell_type": "markdown",
   "id": "ac4d7ad6",
   "metadata": {},
   "source": [
    "De retinut faptul ca parametrii trebuie specificati in aceeasi ordine in care au fost trecuti in cadrul metodei init"
   ]
  },
  {
   "cell_type": "markdown",
   "id": "e2eaa3bc",
   "metadata": {},
   "source": [
    "In momentul in care rulam codul emp_1 = Employee('Andrei', 'Georgiu', 50000), emp_1 o sa fie trecut automat ca si parametru pentru self si o sa seteze urmatoarele atribute:\n",
    "1. emp_1.first_name = 'Andrei'\n",
    "2. emp_1.last_name = 'Georgiu'\n",
    "3. emp_1.pay = 50000\n",
    "4. emp_1.emial = 'Andrei.Goergiu@company.com'"
   ]
  },
  {
   "cell_type": "code",
   "execution_count": 11,
   "id": "c36a4678",
   "metadata": {},
   "outputs": [],
   "source": [
    "emp_1 = Employee('Andrei', 'Georgiu', 50000)\n",
    "emp_2 = Employee('Test', 'User', 60000)\n"
   ]
  },
  {
   "cell_type": "code",
   "execution_count": 12,
   "id": "aa47ef2e",
   "metadata": {},
   "outputs": [
    {
     "name": "stdout",
     "output_type": "stream",
     "text": [
      "<__main__.Employee object at 0x7fab706eb220>\n",
      "<__main__.Employee object at 0x7fab706eb3a0>\n",
      "Andrei.Georgiu@company.com\n",
      "Test.User@company.com\n"
     ]
    }
   ],
   "source": [
    "print(emp_1)\n",
    "print(emp_2)\n",
    "print(emp_1.email)\n",
    "print(emp_2.email)\n"
   ]
  },
  {
   "cell_type": "markdown",
   "id": "3e971142",
   "metadata": {},
   "source": [
    "first_name, last_name, pay, email = acestea reprezinta atribute ale obiectelor din clasa respectiva. Obiectele create utilizand o clasa pot sa si realizeze anumite actiuni specifice. Pentru asta trebuie sa adaugam metode in cadrul clasei repsective. Metodele reprezinta doar functii create in interiorul clasei"
   ]
  },
  {
   "cell_type": "markdown",
   "id": "3e73664f",
   "metadata": {},
   "source": [
    "Un exemplu de metoda ar fi abilitatea de a afisa numele complet al angajatorului. Pentru inceput o sa afisam numele complet manual, din nou, pentru a observa diferenta dintre crearea manuala si crearea unei metode care face acest lucru"
   ]
  },
  {
   "cell_type": "code",
   "execution_count": 13,
   "id": "777a0b89",
   "metadata": {},
   "outputs": [
    {
     "name": "stdout",
     "output_type": "stream",
     "text": [
      "Andrei Georgiu\n",
      "Test User\n"
     ]
    }
   ],
   "source": [
    "print(f'{emp_1.first_name} {emp_1.last_name}')\n",
    "print(f'{emp_2.first_name} {emp_2.last_name}')\n"
   ]
  },
  {
   "cell_type": "markdown",
   "id": "0770150f",
   "metadata": {},
   "source": [
    "Se poate crea o metoda in cadrul clasei pentru a afisa numele complet al fiecarui obiect creat utilizand clasa respectiva, iar astfel fiecare obiect o sa detina acea actiune de a afisa numele complet"
   ]
  },
  {
   "cell_type": "code",
   "execution_count": 15,
   "id": "fe2c37af",
   "metadata": {},
   "outputs": [],
   "source": [
    "class Employee():\n",
    "    \n",
    "    def __init__(self, first_name, last_name, pay):\n",
    "        self.first_name = first_name\n",
    "        self.last_name = last_name\n",
    "        self.pay = pay\n",
    "        self.email = f'{first_name}.{last_name}@company.com'\n",
    "        \n",
    "    def fullname(self):\n",
    "        return f'{self.first_name} {self.last_name}'\n",
    "    "
   ]
  },
  {
   "cell_type": "code",
   "execution_count": 16,
   "id": "43eca83f",
   "metadata": {},
   "outputs": [
    {
     "name": "stdout",
     "output_type": "stream",
     "text": [
      "Andrei.Georgiu@company.com\n",
      "Andrei Georgiu\n"
     ]
    }
   ],
   "source": [
    "emp_1 = Employee('Andrei', 'Georgiu', 50000)\n",
    "print(emp_1.email)\n",
    "print(emp_1.fullname())\n"
   ]
  },
  {
   "cell_type": "markdown",
   "id": "2c732534",
   "metadata": {},
   "source": [
    "De retinut diferenta in care se acceseaza atributele unui obiect si apelarea unei metode. In momentul in care dorim sa apelam o metoda din cadrul clasei, este necesar sa se utilizeze setul de paranteze rotunde, in cazul in care acestea nu sunt trecute, programul afiseaza doar numele clasei din care face parte acea metoda plus memoria din cadrul calclatorului unde se gaseste acea metoda"
   ]
  },
  {
   "cell_type": "code",
   "execution_count": 17,
   "id": "3c11f264",
   "metadata": {},
   "outputs": [
    {
     "name": "stdout",
     "output_type": "stream",
     "text": [
      "<bound method Employee.fullname of <__main__.Employee object at 0x7fab7068a490>>\n"
     ]
    }
   ],
   "source": [
    "print(emp_1.fullname)\n"
   ]
  },
  {
   "cell_type": "markdown",
   "id": "d36ad4b9",
   "metadata": {},
   "source": [
    "Este foarte important ca in cadrul unei metode din clasa, daca dorim sa accesam atributele obiectului respectiv sa se utilizeze self pentru a obtine atributele acelui obiect la care ne referim in momentul in care apelam metoda"
   ]
  },
  {
   "cell_type": "markdown",
   "id": "9ef45898",
   "metadata": {},
   "source": [
    "O greseala foarte comuna care apare atunci cand se creeaza metode, este neutilizarea parametrului self ca si prim parametru in momentul in care se creeaza metoda respectiva. In acest caz o sa rezulte o eroare"
   ]
  },
  {
   "cell_type": "code",
   "execution_count": 18,
   "id": "9f1a0a48",
   "metadata": {},
   "outputs": [],
   "source": [
    "class Employee():\n",
    "    \n",
    "    def __init__(self, first_name, last_name, pay):\n",
    "        self.first_name = first_name\n",
    "        self.last_name = last_name\n",
    "        self.pay = pay\n",
    "        self.email = f'{first_name}.{last_name}@company.com'\n",
    "        \n",
    "    def fullname():\n",
    "        return f'{self.first_name} {self.last_name}'\n",
    "    "
   ]
  },
  {
   "cell_type": "code",
   "execution_count": 19,
   "id": "cf425c71",
   "metadata": {},
   "outputs": [
    {
     "name": "stdout",
     "output_type": "stream",
     "text": [
      "Andrei.Georgiu@company.com\n"
     ]
    },
    {
     "ename": "TypeError",
     "evalue": "fullname() takes 0 positional arguments but 1 was given",
     "output_type": "error",
     "traceback": [
      "\u001b[0;31m---------------------------------------------------------------------------\u001b[0m",
      "\u001b[0;31mTypeError\u001b[0m                                 Traceback (most recent call last)",
      "\u001b[0;32m/tmp/ipykernel_3404/287915403.py\u001b[0m in \u001b[0;36m<module>\u001b[0;34m\u001b[0m\n\u001b[1;32m      1\u001b[0m \u001b[0memp_1\u001b[0m \u001b[0;34m=\u001b[0m \u001b[0mEmployee\u001b[0m\u001b[0;34m(\u001b[0m\u001b[0;34m'Andrei'\u001b[0m\u001b[0;34m,\u001b[0m \u001b[0;34m'Georgiu'\u001b[0m\u001b[0;34m,\u001b[0m \u001b[0;36m50000\u001b[0m\u001b[0;34m)\u001b[0m\u001b[0;34m\u001b[0m\u001b[0;34m\u001b[0m\u001b[0m\n\u001b[1;32m      2\u001b[0m \u001b[0mprint\u001b[0m\u001b[0;34m(\u001b[0m\u001b[0memp_1\u001b[0m\u001b[0;34m.\u001b[0m\u001b[0memail\u001b[0m\u001b[0;34m)\u001b[0m\u001b[0;34m\u001b[0m\u001b[0;34m\u001b[0m\u001b[0m\n\u001b[0;32m----> 3\u001b[0;31m \u001b[0mprint\u001b[0m\u001b[0;34m(\u001b[0m\u001b[0memp_1\u001b[0m\u001b[0;34m.\u001b[0m\u001b[0mfullname\u001b[0m\u001b[0;34m(\u001b[0m\u001b[0;34m)\u001b[0m\u001b[0;34m)\u001b[0m\u001b[0;34m\u001b[0m\u001b[0;34m\u001b[0m\u001b[0m\n\u001b[0m",
      "\u001b[0;31mTypeError\u001b[0m: fullname() takes 0 positional arguments but 1 was given"
     ]
    }
   ],
   "source": [
    "emp_1 = Employee('Andrei', 'Georgiu', 50000)\n",
    "print(emp_1.email)\n",
    "print(emp_1.fullname())\n"
   ]
  },
  {
   "cell_type": "markdown",
   "id": "6a95123b",
   "metadata": {},
   "source": [
    "Eroare respectiva ne spune ca metoda fullname a primit 1 argument, insa acesta accepta 0 argumente. Daca ne uitam la cod, noi nu am oferit niciun argument. Acesta eroare apare doarece in momentul in care se apeleaza o metoda din cadrul unei clase, obiectul asupra careia s-a apelat acesta metoda este trecut automat ca si parametru self. Pentru a vedea mai bine, o sa apelam metoda respectiva cu ajutorul clasei, nu cu ajutorul obiectului (da, se poate si asa)"
   ]
  },
  {
   "cell_type": "code",
   "execution_count": 20,
   "id": "f4ef3ce2",
   "metadata": {},
   "outputs": [],
   "source": [
    "class Employee():\n",
    "    \n",
    "    def __init__(self, first_name, last_name, pay):\n",
    "        self.first_name = first_name\n",
    "        self.last_name = last_name\n",
    "        self.pay = pay\n",
    "        self.email = f'{first_name}.{last_name}@company.com'\n",
    "        \n",
    "    def fullname(self):\n",
    "        return f'{self.first_name} {self.last_name}'\n",
    "    "
   ]
  },
  {
   "cell_type": "code",
   "execution_count": 21,
   "id": "df07e687",
   "metadata": {},
   "outputs": [
    {
     "ename": "TypeError",
     "evalue": "fullname() missing 1 required positional argument: 'self'",
     "output_type": "error",
     "traceback": [
      "\u001b[0;31m---------------------------------------------------------------------------\u001b[0m",
      "\u001b[0;31mTypeError\u001b[0m                                 Traceback (most recent call last)",
      "\u001b[0;32m/tmp/ipykernel_3404/3344207251.py\u001b[0m in \u001b[0;36m<module>\u001b[0;34m\u001b[0m\n\u001b[1;32m      1\u001b[0m \u001b[0memp_1\u001b[0m \u001b[0;34m=\u001b[0m \u001b[0mEmployee\u001b[0m\u001b[0;34m(\u001b[0m\u001b[0;34m'Andrei'\u001b[0m\u001b[0;34m,\u001b[0m \u001b[0;34m'Georgiu'\u001b[0m\u001b[0;34m,\u001b[0m \u001b[0;36m50000\u001b[0m\u001b[0;34m)\u001b[0m\u001b[0;34m\u001b[0m\u001b[0;34m\u001b[0m\u001b[0m\n\u001b[0;32m----> 2\u001b[0;31m \u001b[0mprint\u001b[0m\u001b[0;34m(\u001b[0m\u001b[0mEmployee\u001b[0m\u001b[0;34m.\u001b[0m\u001b[0mfullname\u001b[0m\u001b[0;34m(\u001b[0m\u001b[0;34m)\u001b[0m\u001b[0;34m)\u001b[0m\u001b[0;34m\u001b[0m\u001b[0;34m\u001b[0m\u001b[0m\n\u001b[0m",
      "\u001b[0;31mTypeError\u001b[0m: fullname() missing 1 required positional argument: 'self'"
     ]
    }
   ],
   "source": [
    "emp_1 = Employee('Andrei', 'Georgiu', 50000)\n",
    "print(Employee.fullname())\n"
   ]
  },
  {
   "cell_type": "markdown",
   "id": "6dd2a0c2",
   "metadata": {},
   "source": [
    "In cazul de mai sus, daca utilizam metoda apelata din cadrul clasei (Employee.fullname()), trebuie sa specificam pentru ce obiect dorim sa apelam acea metoda, de aceea rezulta eroare de mai sus. Codul care trebuie utilizat este urmatorul:\n"
   ]
  },
  {
   "cell_type": "code",
   "execution_count": 22,
   "id": "f4fae47d",
   "metadata": {},
   "outputs": [
    {
     "name": "stdout",
     "output_type": "stream",
     "text": [
      "Andrei Georgiu\n"
     ]
    }
   ],
   "source": [
    "emp_1 = Employee('Andrei', 'Georgiu', 50000)\n",
    "print(Employee.fullname(emp_1))\n"
   ]
  },
  {
   "cell_type": "markdown",
   "id": "c0c7fe00",
   "metadata": {},
   "source": [
    "In cazul in care metoda se apeleaza utilizand obiectul (instanta) creat (emp_1.fullname()), Python in spate o sa genereze codul Employee.fullname(emp_1), de aceea primi eroarea 'fullname() takes 0 positional arguments but 1 was given' in momentul in care nu se utilizeaza self ca si parametru in definirea metodei, deoarece 'emp_1' este trecut automat ca si prim argument in momentul in care apelam functia, dar la definirea acesteia nu s-a specificat niciun parametru"
   ]
  }
 ],
 "metadata": {
  "kernelspec": {
   "display_name": "Python 3 (ipykernel)",
   "language": "python",
   "name": "python3"
  },
  "language_info": {
   "codemirror_mode": {
    "name": "ipython",
    "version": 3
   },
   "file_extension": ".py",
   "mimetype": "text/x-python",
   "name": "python",
   "nbconvert_exporter": "python",
   "pygments_lexer": "ipython3",
   "version": "3.9.7"
  }
 },
 "nbformat": 4,
 "nbformat_minor": 5
}
