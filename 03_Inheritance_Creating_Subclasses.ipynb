{
 "cells": [
  {
   "cell_type": "markdown",
   "id": "faa036ba",
   "metadata": {},
   "source": [
    "De data acesta o sa invatam despre mostenirea de clase in Python. Dupa cum ii si spune numele, mostenirea, aceasta ne permite sa mostenim atribute si metodele unei clase parinte. Acest concept ne permite sa creem subclase care sa mosteneasca toate functionalitatile clasei parinte. Aceste functionalitati pot fi rescrise sau se pot crea altele noi fara a modifica clasa parinte intr-un anumit fel"
   ]
  },
  {
   "cell_type": "code",
   "execution_count": 97,
   "id": "ca70fdfa",
   "metadata": {},
   "outputs": [],
   "source": [
    "class Employee():\n",
    "    \n",
    "    raise_amount = 1.05\n",
    "    \n",
    "    def __init__(self, first_name, last_name, pay):\n",
    "        self.first_name = first_name\n",
    "        self.last_name = last_name\n",
    "        self.pay = pay\n",
    "        self.email = f'{first_name}{last_name}@company.com'\n",
    "        \n",
    "    def fullname(self):\n",
    "        return '{} {}'.format(self.first_name, self.last_name)\n",
    "    \n",
    "    def apply_raise(self):\n",
    "        self.pay = int(self.pay * self.raise_amount)\n",
    "        "
   ]
  },
  {
   "cell_type": "code",
   "execution_count": 98,
   "id": "c79b7821",
   "metadata": {},
   "outputs": [],
   "source": [
    "emp_1 = Employee('Andrei', 'Georgiu', 50000)\n",
    "emp_2 = Employee('Test', 'User', 60000)\n"
   ]
  },
  {
   "cell_type": "code",
   "execution_count": 99,
   "id": "33b38e1b",
   "metadata": {},
   "outputs": [
    {
     "name": "stdout",
     "output_type": "stream",
     "text": [
      "AndreiGeorgiu@company.com\n",
      "TestUser@company.com\n"
     ]
    }
   ],
   "source": [
    "print(emp_1.email)\n",
    "print(emp_2.email)\n"
   ]
  },
  {
   "cell_type": "markdown",
   "id": "9cd6f450",
   "metadata": {},
   "source": [
    "Pana in acest moment am lucrat cu clase de angajati. In cadrul unei companii dorim sa separam developerii de manageri. Acesta este un bun exemplu de a crea subclase. Fiecare developer sau manager o sa aiba first_name, last_name, pay si email, iar acele date sunt deja trecute in cadrul clasei Employee. In loc sa rescriem tot acel cod, putem sa preluam codul si functionalitatea clasei Employee prin mostenire"
   ]
  },
  {
   "cell_type": "code",
   "execution_count": 100,
   "id": "78ee29ee",
   "metadata": {},
   "outputs": [],
   "source": [
    "class Developer(Employee):\n",
    "    pass\n"
   ]
  },
  {
   "cell_type": "markdown",
   "id": "5d89434c",
   "metadata": {},
   "source": [
    "Pentru a mosteni o clasa, aceasta trebuie trecuta intre paranteze dupa numele clasei pe care o creem in acest moment. Prin codul de mai sus, clasa Developer a mostenit clasa Employee. Desi in cadrul clasei Developer am trecut pass, adica nu am scris niciun cod, acesta a mostenit toate functionalitatile de la clasa Employee"
   ]
  },
  {
   "cell_type": "code",
   "execution_count": 101,
   "id": "180abf06",
   "metadata": {},
   "outputs": [
    {
     "name": "stdout",
     "output_type": "stream",
     "text": [
      "<__main__.Employee object at 0x7fafd82924f0>\n",
      "<__main__.Employee object at 0x7fafd8292f10>\n"
     ]
    }
   ],
   "source": [
    "print(emp_1)\n",
    "print(emp_2)\n"
   ]
  },
  {
   "cell_type": "code",
   "execution_count": 102,
   "id": "66256dea",
   "metadata": {},
   "outputs": [],
   "source": [
    "dev_1 = Developer('Andrei', 'Georgiu', 50000)\n"
   ]
  },
  {
   "cell_type": "code",
   "execution_count": 103,
   "id": "767300d9",
   "metadata": {},
   "outputs": [
    {
     "name": "stdout",
     "output_type": "stream",
     "text": [
      "<__main__.Developer object at 0x7fafd8292100>\n",
      "AndreiGeorgiu@company.com\n"
     ]
    }
   ],
   "source": [
    "print(dev_1)\n",
    "print(dev_1.email)\n"
   ]
  },
  {
   "cell_type": "markdown",
   "id": "9258b3ba",
   "metadata": {},
   "source": [
    "Dupa cum se poate observa, instantele 'emp_1' si 'emp_2' au fost create utilizand clasa 'Employee'. Instanta 'dev_1' a fost create utilizand clasa 'Developer'. Chiar daca nu am scris metoda \\_\\_init\\_\\_() in cadrul clasei 'Developer', obiectul respectiv tot a fost creat deoarece codul cauta pentru inceput metoda init() in cadrul clasei Developer, iar daca nu o gaseste (cum s-a intamplat aici) merge la clasa parinte si cauta acolo metoda. Gasind metoda in clasa 'Employee' acesta este utilizata si obiectul care apartine clasei 'Developer' a fist creat"
   ]
  },
  {
   "cell_type": "markdown",
   "id": "3550bd16",
   "metadata": {},
   "source": [
    "Pentru a putea intelege mai bine mostenirea ne putem folosi de metoda 'help()'"
   ]
  },
  {
   "cell_type": "code",
   "execution_count": 104,
   "id": "113bc971",
   "metadata": {},
   "outputs": [
    {
     "name": "stdout",
     "output_type": "stream",
     "text": [
      "Help on class Developer in module __main__:\n",
      "\n",
      "class Developer(Employee)\n",
      " |  Developer(first_name, last_name, pay)\n",
      " |  \n",
      " |  Method resolution order:\n",
      " |      Developer\n",
      " |      Employee\n",
      " |      builtins.object\n",
      " |  \n",
      " |  Methods inherited from Employee:\n",
      " |  \n",
      " |  __init__(self, first_name, last_name, pay)\n",
      " |      Initialize self.  See help(type(self)) for accurate signature.\n",
      " |  \n",
      " |  apply_raise(self)\n",
      " |  \n",
      " |  fullname(self)\n",
      " |  \n",
      " |  ----------------------------------------------------------------------\n",
      " |  Data descriptors inherited from Employee:\n",
      " |  \n",
      " |  __dict__\n",
      " |      dictionary for instance variables (if defined)\n",
      " |  \n",
      " |  __weakref__\n",
      " |      list of weak references to the object (if defined)\n",
      " |  \n",
      " |  ----------------------------------------------------------------------\n",
      " |  Data and other attributes inherited from Employee:\n",
      " |  \n",
      " |  raise_amount = 1.05\n",
      "\n",
      "None\n"
     ]
    }
   ],
   "source": [
    "print(help(Developer))\n"
   ]
  },
  {
   "cell_type": "markdown",
   "id": "1b6f3692",
   "metadata": {},
   "source": [
    "Ce semnifica 'Method resolution order', acesta reprezinta ierarhia in care limbajul cauta o anumita metoda, chiar si cea init. Limbajul cauta metoda \\_\\_init\\_\\_() in cadrul clasei 'Developer', nu o gaseste acolo, trece la urmatorul obiect de pe lista, care este clasa 'Employee'. Gaseste metoda acolo si se foloseste de ea. Daca nu ar fi gasit nici acolo metoda, ar fi cautat in 'builtins.object', clasa din care deriva toate clasele din Python"
   ]
  },
  {
   "cell_type": "markdown",
   "id": "145cb5e7",
   "metadata": {},
   "source": [
    "Metoda 'help()' ne mai spune si ce metode a mostenit de la clasa Employee (\\_\\_init\\_\\_(self, first_name, last_name, pay), apply_raise() si fullname())\n",
    "\n",
    "De asemenea in sectiunea 'Data and other attributes inherited from Employee' putem observa ca s-a mostenit si atributul 'raise_amount = 1.05'"
   ]
  },
  {
   "cell_type": "markdown",
   "id": "c94ccce7",
   "metadata": {},
   "source": [
    "In continuare o sa ne folosim de metodele si atributele mostenite pentru a aplica o marime a atributului 'pay' pentru instanta 'dev_1' ce face parte din clasa 'Developer'"
   ]
  },
  {
   "cell_type": "code",
   "execution_count": 105,
   "id": "c024b50d",
   "metadata": {},
   "outputs": [
    {
     "name": "stdout",
     "output_type": "stream",
     "text": [
      "50000\n",
      "52500\n"
     ]
    }
   ],
   "source": [
    "print(dev_1.pay)\n",
    "dev_1.apply_raise()\n",
    "print(dev_1.pay)\n"
   ]
  },
  {
   "cell_type": "code",
   "execution_count": 106,
   "id": "a4579ac2",
   "metadata": {},
   "outputs": [],
   "source": [
    "class Developer(Employee):\n",
    "    \n",
    "    raise_amount = 1.1\n",
    "    "
   ]
  },
  {
   "cell_type": "markdown",
   "id": "fcccff5f",
   "metadata": {},
   "source": [
    "Dupa cum s-a observat, functia raise_amount s-a comportat cum ne-am astepta, a marit valoarea de la pay cu 5%. Sa presupunem insa ca developerii sa aiba o marire de 10%. Pentru asta trebuie sa modificam valoarea de raise amount din cadrul clasei 'Developer'"
   ]
  },
  {
   "cell_type": "code",
   "execution_count": 107,
   "id": "5eaf3e49",
   "metadata": {},
   "outputs": [],
   "source": [
    "dev_1 = Developer('Andrei', 'Georgiu', 50000)\n"
   ]
  },
  {
   "cell_type": "code",
   "execution_count": 108,
   "id": "7f20f775",
   "metadata": {},
   "outputs": [
    {
     "name": "stdout",
     "output_type": "stream",
     "text": [
      "50000\n",
      "50000\n"
     ]
    }
   ],
   "source": [
    "print(dev_1.pay)\n",
    "print(emp_1.pay)\n"
   ]
  },
  {
   "cell_type": "code",
   "execution_count": 109,
   "id": "0115c414",
   "metadata": {},
   "outputs": [],
   "source": [
    "dev_1.apply_raise()\n",
    "emp_1.apply_raise()\n"
   ]
  },
  {
   "cell_type": "code",
   "execution_count": 110,
   "id": "7ea5759e",
   "metadata": {},
   "outputs": [
    {
     "name": "stdout",
     "output_type": "stream",
     "text": [
      "55000\n",
      "52500\n"
     ]
    }
   ],
   "source": [
    "print(dev_1.pay)\n",
    "print(emp_1.pay)\n"
   ]
  },
  {
   "cell_type": "markdown",
   "id": "f34313e2",
   "metadata": {},
   "source": [
    "In cadrul clasei 'Developer' am modificat doar valoarea de la raise amount ca sa fie de 10%, nu am modificat si metoda 'apply_raise'. Metoda 'apply_raise()' a fost preluata din cadrul clasei parinte 'Employee', insa valoarea a fost preluata din cadrul clasei 'Developer'. Mai mult, in cadrul clasei 'Employee', valaorea de la raise_amount a ramas aceeasi. Prin urmare, se pot face modificari de valoare a atributelor sau de rescriere a functiilor in cadrul clasei curente fara a modifica ceva in clasa parinte"
   ]
  },
  {
   "cell_type": "markdown",
   "id": "71ebe925",
   "metadata": {},
   "source": [
    "Sa presupunem ca in cazul in care creem o instanta utilizand clasa 'Developer', pentru acestia dorim sa specificam si limbajul de programare in care lucreaza. Momentan, clasa 'Developer' mosteneste metoda init() din cadrul calsei 'Employee', iar acesta nu are setat si limbajul de programare. Asta inseamna ca in cadrul clasei 'Developer' trebuie sa ii creem propria metoda \\_\\_init\\_\\_()"
   ]
  },
  {
   "cell_type": "code",
   "execution_count": 111,
   "id": "b8ad3240",
   "metadata": {},
   "outputs": [],
   "source": [
    "class Developer(Employee):\n",
    "    \n",
    "    raise_amount = 1.1\n",
    "    \n",
    "    def __init__(self, first_name, last_name, pay, prog_lang):\n",
    "        self.first_name = first_name\n",
    "        self.last_name = last_name\n",
    "        self.pay = pay\n",
    "        self.email = f'{first_name}.{last_name}@company.com'\n",
    "        self.prog_lang = prog_lang\n",
    "        "
   ]
  },
  {
   "cell_type": "markdown",
   "id": "0d0e1675",
   "metadata": {},
   "source": [
    "La prima idee, suntem tentati sa scriem codul ca si mai sus, sa setam iar individual fiecare atribut al instantei. Scopul insa este sa utilizam cat mai putin cod si sa nu ne repetam in cod (DRY = dont repear yourself), de aceea exista alta metoda. Metoda respectiva permite clasei parinte (Employee) sa se ocupe de atribuirea pentru first_name, last_name si pay"
   ]
  },
  {
   "cell_type": "code",
   "execution_count": 112,
   "id": "daeb1f23",
   "metadata": {},
   "outputs": [],
   "source": [
    "class Developer(Employee):\n",
    "    \n",
    "    raise_amount = 1.1\n",
    "    \n",
    "    def __init__(self, first_name, last_name, pay, prog_lang):\n",
    "        super().__init__(first_name, last_name, pay)\n",
    "        self.prog_lang = prog_lang\n",
    "        "
   ]
  },
  {
   "cell_type": "markdown",
   "id": "92e4c91e",
   "metadata": {},
   "source": [
    "Metoda in sine poarta denumirea de 'super()' si are forma:\n",
    "\n",
    "    1. super().metoda_mostenita()"
   ]
  },
  {
   "cell_type": "markdown",
   "id": "78627ca9",
   "metadata": {},
   "source": [
    "Dupa ce se apeleaza metoda super(), se trece metoda care doreste sa se mosteneasca din clasa parinte, in acest caz fiind metoda init(). In cadrul apelarii metodei \\_\\_init\\_\\_(), ca si argumente se trec atributele care sunt comune pentru clasa Developer si pentru Employee, adica first_name, last_name si pay. Prin apelearea acestei metode, ii atribuim clasei Employee atribuirea acestor atribute ce tin de Developer, dar care sunt prezente si in clasa Employee. Pe langa acestea, metoda super() se ocupa si de atribuirea self.email, care este prezenta doar in cadrul clasei Employee."
   ]
  },
  {
   "cell_type": "markdown",
   "id": "8a5ddeb2",
   "metadata": {},
   "source": [
    "Din moment ce i-am atribuit clasei Employee sa se ocupe de atributele first_name, last_name, pay si email, mai ramane doar sa atribuim 'prog_lang', iar acesta atribuire se face precum in oricare alta clasa, utilizand instanta in sine, self"
   ]
  },
  {
   "cell_type": "markdown",
   "id": "e9e0fcb4",
   "metadata": {},
   "source": [
    "In acest moment, cand creem o instanta pentru clasa Developer, ca si argument se asteapta si o valoare pentru 'prog_lang'"
   ]
  },
  {
   "cell_type": "code",
   "execution_count": 113,
   "id": "c42ba9cc",
   "metadata": {},
   "outputs": [],
   "source": [
    "dev_1 = Developer('Andrei', 'Georgiu', 50000, 'Python')\n",
    "dev_2 = Developer('Test', 'User', 60000, 'Java')\n"
   ]
  },
  {
   "cell_type": "code",
   "execution_count": 114,
   "id": "8dab4529",
   "metadata": {},
   "outputs": [
    {
     "name": "stdout",
     "output_type": "stream",
     "text": [
      "AndreiGeorgiu@company.com\n",
      "Python\n",
      "Andrei\n"
     ]
    }
   ],
   "source": [
    "print(dev_1.email)\n",
    "print(dev_1.prog_lang)\n",
    "print(dev_1.first_name)\n"
   ]
  },
  {
   "cell_type": "markdown",
   "id": "30768180",
   "metadata": {},
   "source": [
    "Dupa cum se poate observa, instanta create prin clasa Developer are acum si atributul de 'prog_lang'"
   ]
  },
  {
   "cell_type": "markdown",
   "id": "96f57a70",
   "metadata": {},
   "source": [
    "Acesta este principalul avantaj al mostenirii, al creeri de sub clase. Prin acest concept, doar printr-un numar mai mic de linii de cod putem avea toate atributele clasei parinte, iar in plus de asta putem modifca sau adauga noi elemente pentru clasa noua nemodificand in ceva masura clasa parinte"
   ]
  },
  {
   "cell_type": "code",
   "execution_count": 115,
   "id": "831ffd1e",
   "metadata": {},
   "outputs": [],
   "source": [
    "class Manager(Employee):\n",
    "    \n",
    "    def __init__(self, first_name, last_name, pay, employees=None):\n",
    "        super().__init__(first_name, last_name, pay)\n",
    "        if employess == None:\n",
    "            self.employees = []\n",
    "        else:\n",
    "            self.employees = employees\n",
    "            "
   ]
  },
  {
   "cell_type": "markdown",
   "id": "63d382a8",
   "metadata": {},
   "source": [
    "In codul de mai sus s-a creat o noua subclasa care mosteneste clasa parinte 'Employee'. Acesta clasa poarta denumirea de Manager. Acesta este un pic diferita deoarece ca si atribut nou, aceasta clasa contine o lista de angajatori (instante ale clasei Employee) care raporteaza instantei pentru clasa Manager."
   ]
  },
  {
   "cell_type": "markdown",
   "id": "305a2404",
   "metadata": {},
   "source": [
    "Ca si argument s-a oferit un parametru predefinit (employees=None). De ce s-a facut asta? Pentru ca nu dorim sa oferim ca si parametru elemente mutabile, cum ar fi liste sau dictionarii. In cazul in care nu se ofera niciun argument pentru acest parametru, atunci prin clauza if se creeaza o lista goala, iar in situatia in care se ofera, atunci se seteaza atributul employees utilizand 'self' sa aiba valoarea care este trecuta ca si argument in momentul in care se creeaza o instanta utilizand clasa Manager"
   ]
  },
  {
   "cell_type": "markdown",
   "id": "27cbdda6",
   "metadata": {},
   "source": [
    "In cadrul acestei clase o sa mai adaugam o serie de metode:\n",
    "1. add_emp = permite unei instante de tip Manager sa adauge in lista angajatilor care trebuie sa ii raporteze un obiect/instanta (in cazul in care deja nu se gaseste in lista respectiva)\n",
    "2. remove_emp = permite unei instante de tip Manager sa elimine din lista angajatilor care trebuie sa ii raporteze un obiect/instanta (in cazul in care se gaseste in lista respectiva)\n",
    "3. print_emps = afiseaza toti angajatorii care ii raporteaza unei singure instante de tipul Manager"
   ]
  },
  {
   "cell_type": "code",
   "execution_count": 116,
   "id": "d83edb78",
   "metadata": {},
   "outputs": [],
   "source": [
    "class Manager(Employee):\n",
    "    \n",
    "    def __init__(self, first_name, last_name, pay, employees=None):\n",
    "        super().__init__(first_name, last_name, pay)\n",
    "        if employees == None:\n",
    "            self.employees = []\n",
    "        else:\n",
    "            self.employees = employees\n",
    "            \n",
    "    def add_emp(self, emp):\n",
    "        if emp not in self.employees:\n",
    "            self.employees.append(emp)\n",
    "            \n",
    "    def remove_emp(self, emp):\n",
    "        if emp in self.employees:\n",
    "            self.employees.remove(emp)\n",
    "            \n",
    "    def print_emps(self):\n",
    "        for emp in self.employees:\n",
    "            print('-->', emp.fullname())\n",
    "            "
   ]
  },
  {
   "cell_type": "markdown",
   "id": "87f24af0",
   "metadata": {},
   "source": [
    "In cadrul ultimei metode (print_emps()) am utilizat conceptul de mostenire, in care clasa Manager foloseste metoda 'fullname()' care se gaseste in cadrul clasei parinte 'Employee'"
   ]
  },
  {
   "cell_type": "code",
   "execution_count": 117,
   "id": "b03c8535",
   "metadata": {},
   "outputs": [],
   "source": [
    "mgr_1 = Manager('Sue', 'Smith', 90000, [dev_1])\n"
   ]
  },
  {
   "cell_type": "code",
   "execution_count": 118,
   "id": "cf2653cd",
   "metadata": {},
   "outputs": [
    {
     "name": "stdout",
     "output_type": "stream",
     "text": [
      "SueSmith@company.com\n",
      "Sue\n"
     ]
    }
   ],
   "source": [
    "print(mgr_1.email)\n",
    "print(mgr_1.first_name)\n"
   ]
  },
  {
   "cell_type": "code",
   "execution_count": 119,
   "id": "ac3f6bb4",
   "metadata": {},
   "outputs": [
    {
     "name": "stdout",
     "output_type": "stream",
     "text": [
      "--> Andrei Georgiu\n"
     ]
    }
   ],
   "source": [
    "mgr_1.print_emps()\n"
   ]
  },
  {
   "cell_type": "code",
   "execution_count": 120,
   "id": "0eb54d4b",
   "metadata": {},
   "outputs": [],
   "source": [
    "mgr_1.add_emp(dev_2)\n"
   ]
  },
  {
   "cell_type": "code",
   "execution_count": 121,
   "id": "3960a09c",
   "metadata": {},
   "outputs": [
    {
     "name": "stdout",
     "output_type": "stream",
     "text": [
      "--> Andrei Georgiu\n",
      "--> Test User\n"
     ]
    }
   ],
   "source": [
    "mgr_1.print_emps()\n"
   ]
  },
  {
   "cell_type": "markdown",
   "id": "3b7ec3dc",
   "metadata": {},
   "source": [
    "Limbajul Python are 2 metode specifice pentru OOP, si anume isinstance() si issubclass()"
   ]
  },
  {
   "cell_type": "markdown",
   "id": "fb5a8965",
   "metadata": {},
   "source": [
    "Metoda 'isinstance()' ia 2 argument, primul fiind instanta, iar cel de-al doilea fiind calsa pentru care verificam daca este o instanta sau nu. Acesta returneaza True sau False"
   ]
  },
  {
   "cell_type": "code",
   "execution_count": 122,
   "id": "29ceb962",
   "metadata": {},
   "outputs": [
    {
     "data": {
      "text/plain": [
       "True"
      ]
     },
     "execution_count": 122,
     "metadata": {},
     "output_type": "execute_result"
    }
   ],
   "source": [
    "isinstance(mgr_1, Manager)\n"
   ]
  },
  {
   "cell_type": "code",
   "execution_count": 123,
   "id": "bb90fd9f",
   "metadata": {},
   "outputs": [
    {
     "data": {
      "text/plain": [
       "False"
      ]
     },
     "execution_count": 123,
     "metadata": {},
     "output_type": "execute_result"
    }
   ],
   "source": [
    "isinstance(mgr_1, Developer)\n"
   ]
  },
  {
   "cell_type": "code",
   "execution_count": 124,
   "id": "684cf26e",
   "metadata": {},
   "outputs": [
    {
     "data": {
      "text/plain": [
       "True"
      ]
     },
     "execution_count": 124,
     "metadata": {},
     "output_type": "execute_result"
    }
   ],
   "source": [
    "isinstance(mgr_1, Employee)\n"
   ]
  },
  {
   "cell_type": "markdown",
   "id": "7733fddf",
   "metadata": {},
   "source": [
    "Metoda 'issubclass()' ia de asemenea 2 argumente, si anume 2 clase. Verifica daca prima calsa este derivata din a doua clasa oferita ca si argument"
   ]
  },
  {
   "cell_type": "code",
   "execution_count": 125,
   "id": "4d38d1ef",
   "metadata": {},
   "outputs": [
    {
     "data": {
      "text/plain": [
       "True"
      ]
     },
     "execution_count": 125,
     "metadata": {},
     "output_type": "execute_result"
    }
   ],
   "source": [
    "issubclass(Manager, Employee)\n"
   ]
  },
  {
   "cell_type": "code",
   "execution_count": 126,
   "id": "2cb4f33a",
   "metadata": {},
   "outputs": [
    {
     "data": {
      "text/plain": [
       "True"
      ]
     },
     "execution_count": 126,
     "metadata": {},
     "output_type": "execute_result"
    }
   ],
   "source": [
    "issubclass(Developer, Employee)\n"
   ]
  },
  {
   "cell_type": "code",
   "execution_count": 127,
   "id": "c32964a1",
   "metadata": {},
   "outputs": [
    {
     "data": {
      "text/plain": [
       "False"
      ]
     },
     "execution_count": 127,
     "metadata": {},
     "output_type": "execute_result"
    }
   ],
   "source": [
    "issubclass(Manager, Developer)\n"
   ]
  },
  {
   "cell_type": "code",
   "execution_count": 128,
   "id": "9ef30a32",
   "metadata": {},
   "outputs": [
    {
     "data": {
      "text/plain": [
       "False"
      ]
     },
     "execution_count": 128,
     "metadata": {},
     "output_type": "execute_result"
    }
   ],
   "source": [
    "issubclass(Employee, Developer)\n"
   ]
  },
  {
   "cell_type": "code",
   "execution_count": null,
   "id": "7a2f0861",
   "metadata": {},
   "outputs": [],
   "source": []
  }
 ],
 "metadata": {
  "kernelspec": {
   "display_name": "Python 3 (ipykernel)",
   "language": "python",
   "name": "python3"
  },
  "language_info": {
   "codemirror_mode": {
    "name": "ipython",
    "version": 3
   },
   "file_extension": ".py",
   "mimetype": "text/x-python",
   "name": "python",
   "nbconvert_exporter": "python",
   "pygments_lexer": "ipython3",
   "version": "3.9.7"
  }
 },
 "nbformat": 4,
 "nbformat_minor": 5
}
