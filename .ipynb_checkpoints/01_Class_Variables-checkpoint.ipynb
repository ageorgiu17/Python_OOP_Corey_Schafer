{
 "cells": [
  {
   "cell_type": "code",
   "execution_count": 1,
   "id": "c90fe969",
   "metadata": {},
   "outputs": [],
   "source": [
    "class Employee():\n",
    "    \n",
    "    def __init__(self, first_name, last_name, pay):\n",
    "        self.first_name = first_name\n",
    "        self.last_name = last_name\n",
    "        self.pay = pay\n",
    "        self.email = f'{first_name}.{last_name}@company.com'\n",
    "        \n",
    "    def fullname(self):\n",
    "        return f'{self.first_name} {self.last_name}'\n",
    "    "
   ]
  },
  {
   "cell_type": "code",
   "execution_count": 2,
   "id": "f470a7fd",
   "metadata": {},
   "outputs": [],
   "source": [
    "emp_1 = Employee('Andrei', 'Georgiu', 50000)\n",
    "emp_2 = Employee('Test', 'User', 60000)\n"
   ]
  },
  {
   "cell_type": "markdown",
   "id": "5006e2a3",
   "metadata": {},
   "source": [
    "In partea trecuta am invatat cum sa creem simple clase, cum sa creem instante (obiecte) ale acelei clase, am invatat despre atributele obiectelor care reprezinta date unice pentru fiecare instanta creata a clasei (cele setate cu self - self.first_name = first_name, self.last_name = last_name etc.)"
   ]
  },
  {
   "cell_type": "markdown",
   "id": "b3da6772",
   "metadata": {},
   "source": [
    "'Class variables' reprezinta atribute care sunt prezente in fiecare instanta creata cu o anumita clasa. Cum atributele obiectelor (instance variable) pot fi unicate (precum first_name, last_name, pay, email = acestea pot fi difreite pentru fiecare obiect in parte), atributele clasei (class variables) ar trebui sa fie aceleasi pentru fiecare obiect creat"
   ]
  },
  {
   "cell_type": "markdown",
   "id": "b404182e",
   "metadata": {},
   "source": [
    "Un exemplu pentru cazul nostru, ar fi ideea ca compania respectiva sa faca o marire de salariu Pentru a vedea utilitatea acestuit tip de class variable, intai o sa facem manual acesta operatiune de marire de salariu"
   ]
  },
  {
   "cell_type": "code",
   "execution_count": 4,
   "id": "764d7b84",
   "metadata": {},
   "outputs": [],
   "source": [
    "class Employee():\n",
    "    \n",
    "    def __init__(self, first_name, last_name, pay):\n",
    "        self.first_name = first_name\n",
    "        self.last_name = last_name\n",
    "        self.pay = pay\n",
    "        self.email = f'{first_name}.{last_name}@company.com'\n",
    "        \n",
    "    def fullname(self):\n",
    "        return f'{self.first_name} {self.last_name}'\n",
    "    \n",
    "    def apply_raise(self):\n",
    "        self.pay = int(self.pay * 1.04)\n",
    "        "
   ]
  },
  {
   "cell_type": "code",
   "execution_count": 5,
   "id": "269bab3b",
   "metadata": {},
   "outputs": [],
   "source": [
    "emp_1 = Employee('Andrei', 'Georgiu', 50000)\n"
   ]
  },
  {
   "cell_type": "markdown",
   "id": "251ec310",
   "metadata": {},
   "source": [
    "In cadrul calsei de mai sus am creat o metoda care aplica o marire de salariu de 4% angajatilor. "
   ]
  },
  {
   "cell_type": "code",
   "execution_count": 6,
   "id": "b2dbdce5",
   "metadata": {},
   "outputs": [
    {
     "name": "stdout",
     "output_type": "stream",
     "text": [
      "50000\n",
      "52000\n"
     ]
    }
   ],
   "source": [
    "print(emp_1.pay)\n",
    "emp_1.apply_raise()\n",
    "print(emp_1.pay)\n"
   ]
  },
  {
   "cell_type": "markdown",
   "id": "fe024fb0",
   "metadata": {},
   "source": [
    "Desi codul functioneaza cum se asteapta sa functioneze, aici sunt anumite probleme. Pentru inceput, fiind o marire care se aplica fiecarui angajat, ar fi ideal sa putem accesa valoarea de marire utilizand:\n",
    "1. emp_1.raise_amount\n",
    "\n",
    "De asemenea, fiind o marire ce se aplica intregii companii, o alta accesare a valorii de marire ar trebuie sa fie:\n",
    "\n",
    "2. Employee.raise_amount\n",
    "\n",
    "Acest atribut insa nu exista, prin urmare un putem sa vedem ca marirea respectiva este de 4%\n",
    "\n",
    "O alta problema apare in momentul in care dorim sa modificam acel procentaj, iar in acest moment este ascun in cadrul metodei apply_raise(), mai mult decat atata, aceasta valoare ar putea fi utilizata in mai multe locuri in cadrul codului. Pentru a nu fi nevoiti sa cautam prin tot codul si sa modificam manual valoare de 1.04, ideal este sa creem class variable care sa detina acesta valaore. Acest lucru se face inainte de a scrie metoda \\_\\_init\\_\\_()"
   ]
  },
  {
   "cell_type": "code",
   "execution_count": 7,
   "id": "8fbcf5e3",
   "metadata": {},
   "outputs": [],
   "source": [
    "class Employee():\n",
    "    \n",
    "    raise_amount = 1.04\n",
    "    \n",
    "    def __init__(self, first_name, last_name, pay):\n",
    "        self.first_name = first_name\n",
    "        self.last_name = last_name\n",
    "        self.pay = pay\n",
    "        self.email = f'{first_name}.{last_name}@company.com'\n",
    "        \n",
    "    def fullname(self):\n",
    "        return f'{self.first_name} {self.last_name}'\n",
    "    \n",
    "    def apply_raise(self):\n",
    "        self.pay = int(self.pay * raise_amount)\n",
    "        "
   ]
  },
  {
   "cell_type": "code",
   "execution_count": 8,
   "id": "b04401bc",
   "metadata": {},
   "outputs": [
    {
     "name": "stdout",
     "output_type": "stream",
     "text": [
      "50000\n"
     ]
    },
    {
     "ename": "NameError",
     "evalue": "name 'raise_amount' is not defined",
     "output_type": "error",
     "traceback": [
      "\u001b[0;31m---------------------------------------------------------------------------\u001b[0m",
      "\u001b[0;31mNameError\u001b[0m                                 Traceback (most recent call last)",
      "\u001b[0;32m/tmp/ipykernel_4064/1487043752.py\u001b[0m in \u001b[0;36m<module>\u001b[0;34m\u001b[0m\n\u001b[1;32m      1\u001b[0m \u001b[0memp_1\u001b[0m \u001b[0;34m=\u001b[0m \u001b[0mEmployee\u001b[0m\u001b[0;34m(\u001b[0m\u001b[0;34m'Andrei'\u001b[0m\u001b[0;34m,\u001b[0m \u001b[0;34m'Georgiu'\u001b[0m\u001b[0;34m,\u001b[0m \u001b[0;36m50000\u001b[0m\u001b[0;34m)\u001b[0m\u001b[0;34m\u001b[0m\u001b[0;34m\u001b[0m\u001b[0m\n\u001b[1;32m      2\u001b[0m \u001b[0mprint\u001b[0m\u001b[0;34m(\u001b[0m\u001b[0memp_1\u001b[0m\u001b[0;34m.\u001b[0m\u001b[0mpay\u001b[0m\u001b[0;34m)\u001b[0m\u001b[0;34m\u001b[0m\u001b[0;34m\u001b[0m\u001b[0m\n\u001b[0;32m----> 3\u001b[0;31m \u001b[0memp_1\u001b[0m\u001b[0;34m.\u001b[0m\u001b[0mapply_raise\u001b[0m\u001b[0;34m(\u001b[0m\u001b[0;34m)\u001b[0m\u001b[0;34m\u001b[0m\u001b[0;34m\u001b[0m\u001b[0m\n\u001b[0m\u001b[1;32m      4\u001b[0m \u001b[0mprint\u001b[0m\u001b[0;34m(\u001b[0m\u001b[0memp_1\u001b[0m\u001b[0;34m.\u001b[0m\u001b[0mpay\u001b[0m\u001b[0;34m)\u001b[0m\u001b[0;34m\u001b[0m\u001b[0;34m\u001b[0m\u001b[0m\n",
      "\u001b[0;32m/tmp/ipykernel_4064/3908065686.py\u001b[0m in \u001b[0;36mapply_raise\u001b[0;34m(self)\u001b[0m\n\u001b[1;32m     13\u001b[0m \u001b[0;34m\u001b[0m\u001b[0m\n\u001b[1;32m     14\u001b[0m     \u001b[0;32mdef\u001b[0m \u001b[0mapply_raise\u001b[0m\u001b[0;34m(\u001b[0m\u001b[0mself\u001b[0m\u001b[0;34m)\u001b[0m\u001b[0;34m:\u001b[0m\u001b[0;34m\u001b[0m\u001b[0;34m\u001b[0m\u001b[0m\n\u001b[0;32m---> 15\u001b[0;31m         \u001b[0mself\u001b[0m\u001b[0;34m.\u001b[0m\u001b[0mpay\u001b[0m \u001b[0;34m=\u001b[0m \u001b[0mint\u001b[0m\u001b[0;34m(\u001b[0m\u001b[0mself\u001b[0m\u001b[0;34m.\u001b[0m\u001b[0mpay\u001b[0m \u001b[0;34m*\u001b[0m \u001b[0mraise_amount\u001b[0m\u001b[0;34m)\u001b[0m\u001b[0;34m\u001b[0m\u001b[0;34m\u001b[0m\u001b[0m\n\u001b[0m",
      "\u001b[0;31mNameError\u001b[0m: name 'raise_amount' is not defined"
     ]
    }
   ],
   "source": [
    "emp_1 = Employee('Andrei', 'Georgiu', 50000)\n",
    "print(emp_1.pay)\n",
    "emp_1.apply_raise()\n",
    "print(emp_1.pay)\n"
   ]
  },
  {
   "cell_type": "markdown",
   "id": "60f264ea",
   "metadata": {},
   "source": [
    "Din moment ce este un atribut de clasa, ne putem imagina ca se poate utiliza linia de cod 'self.pay = int(self.pay * raise_amount)', insa acest cod returneaza o eroare de tipul 'NameError' care ne spune ca raise_amount nu este definit. Acest lucru se intampla deoarece cand accesam atributele unei clase trebuie sa nereferim fie la clasa in mare, ori la un obiect al clasei, prin urmare, in codul respectiv putem utilza fie 'Employee.raise_amount', fie 'self.raise_amount'"
   ]
  },
  {
   "cell_type": "markdown",
   "id": "748dbe8a",
   "metadata": {},
   "source": [
    "Pare confuz de ce putem accesa atributele clasei prin accesarea lor utilizand obiectele create"
   ]
  },
  {
   "cell_type": "code",
   "execution_count": 9,
   "id": "7ee9543a",
   "metadata": {},
   "outputs": [],
   "source": [
    "class Employee():\n",
    "    \n",
    "    raise_amount = 1.04\n",
    "    \n",
    "    def __init__(self, first_name, last_name, pay):\n",
    "        self.first_name = first_name\n",
    "        self.last_name = last_name\n",
    "        self.pay = pay\n",
    "        self.email = f'{first_name}.{last_name}@company.com'\n",
    "        \n",
    "    def fullname(self):\n",
    "        return f'{self.first_name} {self.last_name}'\n",
    "    \n",
    "    def apply_raise(self):\n",
    "        self.pay = int(self.pay * self.raise_amount)\n",
    "        "
   ]
  },
  {
   "cell_type": "code",
   "execution_count": 10,
   "id": "47c789ed",
   "metadata": {},
   "outputs": [
    {
     "name": "stdout",
     "output_type": "stream",
     "text": [
      "50000\n",
      "52000\n"
     ]
    }
   ],
   "source": [
    "emp_1 = Employee('Andrei', 'Georgiu', 50000)\n",
    "print(emp_1.pay)\n",
    "emp_1.apply_raise()\n",
    "print(emp_1.pay)\n"
   ]
  },
  {
   "cell_type": "markdown",
   "id": "9d271b99",
   "metadata": {},
   "source": [
    "Pentru a intelege cum anume functioneaza, o sa utilizam exemplele din liniile de cod de mai jos. Pentru inceput o sa printam atributul de 'raise_amount' utilizand atat clasa, cat si o instanta"
   ]
  },
  {
   "cell_type": "code",
   "execution_count": 11,
   "id": "af9d9348",
   "metadata": {},
   "outputs": [
    {
     "name": "stdout",
     "output_type": "stream",
     "text": [
      "1.04\n",
      "1.04\n"
     ]
    }
   ],
   "source": [
    "print(Employee.raise_amount)\n",
    "print(emp_1.raise_amount)\n"
   ]
  },
  {
   "cell_type": "markdown",
   "id": "21328726",
   "metadata": {},
   "source": [
    "Dupa cum se poate observa, acestea au aceeasi valoarea. In momentul in care accesam acea valoare utilizand un obiect, verifica daca obiectul in sine are acel atribut, iar daca nu il are verifica daca clasa are atributul respectiv. Prin urmare cand utilizam 'emp_1.raise_amount' nu accesam atributul obiectului, ci atributul clasei deoarece obiectul respectiv nu are atributul acela (nu exista in metoda init)"
   ]
  },
  {
   "cell_type": "markdown",
   "id": "f13fdf74",
   "metadata": {},
   "source": [
    "Pentru a vedea si mai in detaliu, o sa aceesam 'namespace-ul' atat pentru obiect, cat si pentru clasa. Pentru asta o sa utilizam metoda magica \\_\\_dict\\_\\_"
   ]
  },
  {
   "cell_type": "code",
   "execution_count": 12,
   "id": "c89233d5",
   "metadata": {},
   "outputs": [
    {
     "name": "stdout",
     "output_type": "stream",
     "text": [
      "{'first_name': 'Andrei', 'last_name': 'Georgiu', 'pay': 52000, 'email': 'Andrei.Georgiu@company.com'}\n",
      "{'__module__': '__main__', 'raise_amount': 1.04, '__init__': <function Employee.__init__ at 0x7f35946bdaf0>, 'fullname': <function Employee.fullname at 0x7f35946bdb80>, 'apply_raise': <function Employee.apply_raise at 0x7f35946bdc10>, '__dict__': <attribute '__dict__' of 'Employee' objects>, '__weakref__': <attribute '__weakref__' of 'Employee' objects>, '__doc__': None}\n"
     ]
    }
   ],
   "source": [
    "print(emp_1.__dict__)\n",
    "print(Employee.__dict__)\n"
   ]
  },
  {
   "cell_type": "markdown",
   "id": "a8b1c598",
   "metadata": {},
   "source": [
    "Dupa cum se observa, obiectul 'emp_1' nu are atributul 'raise_amount', acesta ise caseste insa in namespace-ul de la clasa Employee ('raise_amount': 1.04)"
   ]
  },
  {
   "cell_type": "markdown",
   "id": "c59f13f5",
   "metadata": {},
   "source": [
    "In continuare o sa modificam valoarea atributului raise_amount atat utilizand clasa, cat si utilizand o instanta creata cu clasa respectiva"
   ]
  },
  {
   "cell_type": "code",
   "execution_count": 13,
   "id": "870169f1",
   "metadata": {},
   "outputs": [],
   "source": [
    "Employee.raise_amount = 1.05\n"
   ]
  },
  {
   "cell_type": "code",
   "execution_count": 14,
   "id": "20a7badb",
   "metadata": {},
   "outputs": [
    {
     "name": "stdout",
     "output_type": "stream",
     "text": [
      "1.05\n",
      "1.05\n"
     ]
    }
   ],
   "source": [
    "print(Employee.raise_amount)\n",
    "print(emp_1.raise_amount)\n"
   ]
  },
  {
   "cell_type": "markdown",
   "id": "a80e5db8",
   "metadata": {},
   "source": [
    "Se observa ca in momentul in care am utilizat clasa pentru a modifica valoarea atributului 'raise_amount', instanta a preluat noua valoare deoarece a cautat in namespace-ul propriei instante, nu a gasit atributul respectiv, prin urmare a fost preluta din cadru clasei"
   ]
  },
  {
   "cell_type": "code",
   "execution_count": 15,
   "id": "962f2cec",
   "metadata": {},
   "outputs": [],
   "source": [
    "emp_1.raise_amount = 1.1\n"
   ]
  },
  {
   "cell_type": "code",
   "execution_count": 16,
   "id": "3a250b0f",
   "metadata": {},
   "outputs": [
    {
     "name": "stdout",
     "output_type": "stream",
     "text": [
      "1.05\n",
      "1.1\n"
     ]
    }
   ],
   "source": [
    "print(Employee.raise_amount)\n",
    "print(emp_1.raise_amount)\n"
   ]
  },
  {
   "cell_type": "markdown",
   "id": "a6bb0d84",
   "metadata": {},
   "source": [
    "In situatia in care utilzam un obiect pentru a schimba valoare unui atribut de clasa, acesta valoare se modifica doar pentru atributul respectiv, valoarea atributului in clasa respectiva ramanand aceeasi (1.05). De ce anume se intampla asa?"
   ]
  },
  {
   "cell_type": "markdown",
   "id": "409318de",
   "metadata": {},
   "source": [
    "In momentul in care am utilizat codul 'emp_1.raise_amount = 1.1', codul a creat atributul respectiv doar pentru obiectul la care ne-am referit. Din moment ce atunci cand dorim sa accesam un atribut utilizand o instanta a clasei, programul cauta in namespace-ul obiectului respectiv. Din moment ce atributul respectiv a fost creat, codul o sa preia acea valoare a atributului, de aceea pentru emp_1.raise_amount avem valoare 1.1, iar pentru Employee.raise_amount 1.05, deoarece acuma in namespace-ul obiectului 'emp_1' se gaseste atributul 'raise_amount'"
   ]
  },
  {
   "cell_type": "code",
   "execution_count": 17,
   "id": "5c58f3c6",
   "metadata": {},
   "outputs": [
    {
     "name": "stdout",
     "output_type": "stream",
     "text": [
      "{'first_name': 'Andrei', 'last_name': 'Georgiu', 'pay': 52000, 'email': 'Andrei.Georgiu@company.com', 'raise_amount': 1.1}\n"
     ]
    }
   ],
   "source": [
    "print(emp_1.__dict__)\n"
   ]
  },
  {
   "cell_type": "markdown",
   "id": "b817c87e",
   "metadata": {},
   "source": [
    "Acesta este un concept foarte important de inteles, deoarece prin acest concept putem sa obtine rezultate diferite in cadrul metodei 'def apply_raise(self)', depinzand daca utilizam valoarea atributlui la care ne referim prin apelarea acestuia utilizand clasa, sau utilizand propria instanta ('self.pay = int(self.pay * self.raise_amount)' si 'self.pay = int(self.pay * Employee.raise_amount)' pot sa genereze rezultate diferite"
   ]
  },
  {
   "cell_type": "markdown",
   "id": "a0e6c51d",
   "metadata": {},
   "source": [
    "Utilizare 'self.raise_amount' ne permite sa utilizam o valoare diferita doar pentru un anumit angajator in parte, ceea ce este un lucru bun. Mai mult decat atat, utilizand 'self.raise_amount' va permite oricarei subclase sa suprascrie acea constanta daca doresc, insa mai multe despre conceptul de subclase si mostenire mai incolo."
   ]
  },
  {
   "cell_type": "markdown",
   "id": "c6ec4050",
   "metadata": {},
   "source": [
    "In continuare o sa ne uitam la un caz unde nu prea are sens sa utilizam 'self'. Sa presupunem ca dorim sa tinem evidenta numarului de angajati pe care il are compania. Acest numar trebuie sa fie la fel pentru fiecare obiect creat "
   ]
  },
  {
   "cell_type": "code",
   "execution_count": 18,
   "id": "ddf38550",
   "metadata": {},
   "outputs": [],
   "source": [
    "class Employee():\n",
    "    \n",
    "    raise_amount = 1.04\n",
    "    nums_of_emps = 0\n",
    "    \n",
    "    def __init__(self, first_name, last_name, pay):\n",
    "        self.first_name = first_name\n",
    "        self.last_name = last_name\n",
    "        self.pay = pay\n",
    "        self.email = f'{first_name}.{last_name}@company.com'\n",
    "        \n",
    "        Employee.nums_of_emps += 1\n",
    "        \n",
    "    def fullname(self):\n",
    "        return f'{self.first_name} {self.last_name}'\n",
    "    \n",
    "    def apply_raise(self):\n",
    "        self.pay = int(self.pay * self.raise_amount)\n",
    "        "
   ]
  },
  {
   "cell_type": "markdown",
   "id": "c23e9e8f",
   "metadata": {},
   "source": [
    "Incrementarea numarului de angajati o sa se faca in cadrul metodei init, deoarece aceea este metoda prin care se creeaza o instanta a clasei respective. Este normal sa utilizam 'Employee.nums_of_emps += 1' in acest caz in loc de 'self.nums_of_emps += 1' deoarece nu exista niciun caz in care am dori ca numarul de angajati sa fie diferit pentru un anumit obiect din cadrul clasei. Daca printam acum numarul de angajati, acesta o sa fie 0 deoarece nu am creat nicio instanta a acestei clase. In momentul in care creem o instanta, numarul acesta este incrementat automat cu 1"
   ]
  },
  {
   "cell_type": "code",
   "execution_count": 19,
   "id": "aa748606",
   "metadata": {},
   "outputs": [
    {
     "name": "stdout",
     "output_type": "stream",
     "text": [
      "0\n"
     ]
    }
   ],
   "source": [
    "print(Employee.nums_of_emps)\n"
   ]
  },
  {
   "cell_type": "code",
   "execution_count": 21,
   "id": "81eb36dd",
   "metadata": {},
   "outputs": [],
   "source": [
    "emp_1 = Employee('Andrei', 'Georgiu', 50000)\n"
   ]
  },
  {
   "cell_type": "code",
   "execution_count": 22,
   "id": "37681b9a",
   "metadata": {},
   "outputs": [
    {
     "name": "stdout",
     "output_type": "stream",
     "text": [
      "1\n"
     ]
    }
   ],
   "source": [
    "print(Employee.nums_of_emps)\n"
   ]
  },
  {
   "cell_type": "code",
   "execution_count": 23,
   "id": "a2e21635",
   "metadata": {},
   "outputs": [],
   "source": [
    "emp_2 = Employee('Test', 'User', 60000)\n"
   ]
  },
  {
   "cell_type": "code",
   "execution_count": 24,
   "id": "d1ad7628",
   "metadata": {},
   "outputs": [
    {
     "name": "stdout",
     "output_type": "stream",
     "text": [
      "2\n"
     ]
    }
   ],
   "source": [
    "print(Employee.nums_of_emps)\n"
   ]
  },
  {
   "cell_type": "code",
   "execution_count": null,
   "id": "78c8b330",
   "metadata": {},
   "outputs": [],
   "source": []
  }
 ],
 "metadata": {
  "kernelspec": {
   "display_name": "Python 3 (ipykernel)",
   "language": "python",
   "name": "python3"
  },
  "language_info": {
   "codemirror_mode": {
    "name": "ipython",
    "version": 3
   },
   "file_extension": ".py",
   "mimetype": "text/x-python",
   "name": "python",
   "nbconvert_exporter": "python",
   "pygments_lexer": "ipython3",
   "version": "3.9.7"
  }
 },
 "nbformat": 4,
 "nbformat_minor": 5
}
