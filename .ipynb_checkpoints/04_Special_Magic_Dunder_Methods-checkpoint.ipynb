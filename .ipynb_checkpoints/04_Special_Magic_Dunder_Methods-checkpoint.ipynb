{
 "cells": [
  {
   "cell_type": "markdown",
   "id": "321413cd",
   "metadata": {},
   "source": [
    "In aceasta parte o sa aruncam o privire peste metodele 'magice' din Python"
   ]
  },
  {
   "cell_type": "code",
   "execution_count": 1,
   "id": "9d261b32",
   "metadata": {},
   "outputs": [],
   "source": [
    "class Employee():\n",
    "    \n",
    "    raise_amount = 1.04\n",
    "    \n",
    "    def __init__(self, first_name, last_name, pay):\n",
    "        self.first_name = first_name\n",
    "        self.last_name = last_name\n",
    "        self.pay = pay\n",
    "        self.email = f'{first_name}.{last_name}@company.com'\n",
    "        \n",
    "    def fullname(self):\n",
    "        return f'{self.first_name} {self.last_name}'\n",
    "    \n",
    "    def apply_raise(self):\n",
    "        self.pay = int(self.pay * self.raise_amount)\n",
    "        "
   ]
  },
  {
   "cell_type": "markdown",
   "id": "27fb4a03",
   "metadata": {},
   "source": [
    "Aceste metode magice ne permit sa modificam comportamentul implementat al unor metode"
   ]
  },
  {
   "cell_type": "markdown",
   "id": "425e90d1",
   "metadata": {},
   "source": [
    "Pentru a intelege mai bine o sa utilizam metoda print pentru a vedea la ce ne referim"
   ]
  },
  {
   "cell_type": "code",
   "execution_count": 2,
   "id": "3927816d",
   "metadata": {},
   "outputs": [
    {
     "name": "stdout",
     "output_type": "stream",
     "text": [
      "3\n",
      "ab\n"
     ]
    }
   ],
   "source": [
    "print(1 + 2)\n",
    "print('a' + 'b')\n"
   ]
  },
  {
   "cell_type": "markdown",
   "id": "fa28516a",
   "metadata": {},
   "source": [
    "In situatia in care se utilizeaza doua valori de tip integer in cadrul metodei print, acestea o sa se adune, iar daca se utilzeaza doua stringuri, acestea o sa fie concatenate. Comportamentul metodei este diferit in functie de ce se introduce ca si parametru pentru functia print"
   ]
  },
  {
   "cell_type": "code",
   "execution_count": 3,
   "id": "d69e0df5",
   "metadata": {},
   "outputs": [],
   "source": [
    "emp_1 = Employee('Andrei', 'Georgiu', 50000)\n"
   ]
  },
  {
   "cell_type": "code",
   "execution_count": 4,
   "id": "f3cb37bc",
   "metadata": {},
   "outputs": [
    {
     "name": "stdout",
     "output_type": "stream",
     "text": [
      "<__main__.Employee object at 0x7f54c05bec10>\n"
     ]
    }
   ],
   "source": [
    "print(emp_1)\n"
   ]
  },
  {
   "cell_type": "markdown",
   "id": "6b97209e",
   "metadata": {},
   "source": [
    "In momentul in care printam instanta 'emp_1' ni se afiseaza acea informatie vaga prin care ni se spune ca este un obiect si pozitia acestuia din cadrul memoriei. Ar fi ideal sa putem modifica acest comportament astfel incat sa se afiseze ceva informatii mai utile, mai user-friendly. Aceste metode magice ne permit sa facem asa ceva"
   ]
  },
  {
   "cell_type": "markdown",
   "id": "5b8e7780",
   "metadata": {},
   "source": [
    "Aceste metode speciale sunt inconjurate de double underscore (doua bare jos inainte de nume si doua dupa numele metodei) - de aici si denumirea de dunder methods. O prima metoda speciala este cea init() pe care am utiliat-o deja, care este pe post de constructor. Alte doua metode speciale care ar trebui implementate mereu sunt \\_\\_repr\\_\\_() si \\_\\_str\\_\\_()."
   ]
  },
  {
   "cell_type": "markdown",
   "id": "572acbea",
   "metadata": {},
   "source": [
    "repr = aceasta este o reprezentare neambigua a obiectului si ar trebui sa fie utilizata in special pentru partea de logs si debugging, are scopul de a fi vizualizata in mare parte de care developeri\n",
    "\n",
    "str = este o reprezentare mai placuta (readable) a obiectului si este utilizata pentru a fi afisata utilizatorilor"
   ]
  },
  {
   "cell_type": "markdown",
   "id": "663c7047",
   "metadata": {},
   "source": [
    "Ar fi ideal sa avem metoda 'repr' cel putin, deoarece in cazul in care metoda 'str' nu este implementata si se utilizeaza in cod, acesta o sa apeleze metoda 'repr'"
   ]
  },
  {
   "cell_type": "markdown",
   "id": "1ba9a524",
   "metadata": {},
   "source": [
    "Se recomanda ca metoda 'repr' sa returneze un tip de date in asa fel incat sa se poate utiliza din nou pentru a crea un obiect. Pentru a crea obiectul (instanta) emp_1 am utilizat codul emp_1 = Employee('Andrei', 'Georgiu', 50000), prin urmare este recomandat ca metoda 'repr' sa returneze 'Employee('Andrei', 'Georgiu', 50000)'"
   ]
  },
  {
   "cell_type": "code",
   "execution_count": 5,
   "id": "48d97250",
   "metadata": {},
   "outputs": [],
   "source": [
    "class Employee():\n",
    "    \n",
    "    raise_amount = 1.04\n",
    "    \n",
    "    def __init__(self, first_name, last_name, pay):\n",
    "        self.first_name = first_name\n",
    "        self.last_name = last_name\n",
    "        self.pay = pay\n",
    "        self.email = f'{first_name}.{last_name}@company.com'\n",
    "        \n",
    "    def fullname(self):\n",
    "        return f'{self.first_name} {self.last_name}'\n",
    "    \n",
    "    def apply_raise(self):\n",
    "        self.pay = int(self.pay * self.raise_amount)\n",
    "        \n",
    "    def __repr__(self):\n",
    "        return f'Employee({self.first_name}, {self.last_name}, {self.pay})'\n",
    "    "
   ]
  },
  {
   "cell_type": "code",
   "execution_count": 6,
   "id": "1205cc35",
   "metadata": {},
   "outputs": [],
   "source": [
    "emp_1 = Employee('Andrei', 'Georgiu', 50000)\n"
   ]
  },
  {
   "cell_type": "code",
   "execution_count": 7,
   "id": "45a672c1",
   "metadata": {},
   "outputs": [
    {
     "name": "stdout",
     "output_type": "stream",
     "text": [
      "Employee(Andrei, Georgiu, 50000)\n"
     ]
    }
   ],
   "source": [
    "print(emp_1)\n"
   ]
  },
  {
   "cell_type": "markdown",
   "id": "8c6e0d8e",
   "metadata": {},
   "source": [
    "Adaugand metoda speciala \\_\\_repr\\_\\_() am modificat comportamentul metodei print(), iar acesta acum returneaza ceea ce s-a specificat in cadrul metodei 'repr'"
   ]
  },
  {
   "cell_type": "markdown",
   "id": "002f9e9d",
   "metadata": {},
   "source": [
    "Dupa cum spuneam, metoda str ar trebui sa fie adresata utilizatorilor, prin urmare acesta trebuie sa fie cat mai readable. Metoda acesta este arbitrara, de asemenea"
   ]
  },
  {
   "cell_type": "code",
   "execution_count": 8,
   "id": "968a3e94",
   "metadata": {},
   "outputs": [],
   "source": [
    "class Employee():\n",
    "    \n",
    "    raise_amount = 1.04\n",
    "    \n",
    "    def __init__(self, first_name, last_name, pay):\n",
    "        self.first_name = first_name\n",
    "        self.last_name = last_name\n",
    "        self.pay = pay\n",
    "        self.email = f'{first_name}.{last_name}@company.com'\n",
    "        \n",
    "    def fullname(self):\n",
    "        return f'{self.first_name} {self.last_name}'\n",
    "    \n",
    "    def apply_raise(self):\n",
    "        self.pay = int(self.pay * self.raise_amount)\n",
    "        \n",
    "    def __repr__(self):\n",
    "        return f'Employee({self.first_name}, {self.last_name}, {self.pay})'\n",
    "    \n",
    "    def __str__(self):\n",
    "        return f'{self.fullname()} -- {self.email}'\n",
    "    "
   ]
  },
  {
   "cell_type": "code",
   "execution_count": 9,
   "id": "527b0fd8",
   "metadata": {},
   "outputs": [],
   "source": [
    "emp_1 = Employee('Andrei', 'Georgiu', 50000)\n"
   ]
  },
  {
   "cell_type": "code",
   "execution_count": 10,
   "id": "a5b5681f",
   "metadata": {},
   "outputs": [
    {
     "name": "stdout",
     "output_type": "stream",
     "text": [
      "Andrei Georgiu -- Andrei.Georgiu@company.com\n"
     ]
    }
   ],
   "source": [
    "print(emp_1)\n"
   ]
  },
  {
   "cell_type": "markdown",
   "id": "ccb1bb52",
   "metadata": {},
   "source": [
    "In acest moment am rescris din nou metoda print(), de data acesta ea afiseaza ce anume se returneaza in cadrul metodei 'str'. Se poate totusi sa apelam separat aceste metode"
   ]
  },
  {
   "cell_type": "code",
   "execution_count": 11,
   "id": "e6ed4873",
   "metadata": {},
   "outputs": [
    {
     "name": "stdout",
     "output_type": "stream",
     "text": [
      "Employee(Andrei, Georgiu, 50000)\n",
      "Andrei Georgiu -- Andrei.Georgiu@company.com\n"
     ]
    }
   ],
   "source": [
    "print(repr(emp_1))\n",
    "print(str(emp_1))\n"
   ]
  },
  {
   "cell_type": "markdown",
   "id": "c29b6aa4",
   "metadata": {},
   "source": [
    "Dupa cum se poate vedea, se pot accesa individual cele 2 metode, pentru a afisa pe care o dorim. De asemenea, metodele respective se pot apela si utilizand instanta creata"
   ]
  },
  {
   "cell_type": "code",
   "execution_count": 12,
   "id": "2ee1a77a",
   "metadata": {},
   "outputs": [
    {
     "name": "stdout",
     "output_type": "stream",
     "text": [
      "Employee(Andrei, Georgiu, 50000)\n",
      "Andrei Georgiu -- Andrei.Georgiu@company.com\n"
     ]
    }
   ],
   "source": [
    "print(emp_1.__repr__())\n",
    "print(emp_1.__str__())\n"
   ]
  },
  {
   "cell_type": "markdown",
   "id": "8863d86f",
   "metadata": {},
   "source": [
    "Cand utilizam 'repr(emp_1)', codul in spate ruleaza 'emp_1.\\_\\_repr\\_\\_()"
   ]
  },
  {
   "cell_type": "markdown",
   "id": "daa3f17a",
   "metadata": {},
   "source": [
    "Cel mai adesea in cod o sa se utilizeze metodele speciale prezentate mai sus, init, repr si str. Mai exista insa si alte metode speciale"
   ]
  },
  {
   "cell_type": "code",
   "execution_count": null,
   "id": "ca274d0c",
   "metadata": {},
   "outputs": [],
   "source": []
  }
 ],
 "metadata": {
  "kernelspec": {
   "display_name": "Python 3 (ipykernel)",
   "language": "python",
   "name": "python3"
  },
  "language_info": {
   "codemirror_mode": {
    "name": "ipython",
    "version": 3
   },
   "file_extension": ".py",
   "mimetype": "text/x-python",
   "name": "python",
   "nbconvert_exporter": "python",
   "pygments_lexer": "ipython3",
   "version": "3.9.7"
  }
 },
 "nbformat": 4,
 "nbformat_minor": 5
}
